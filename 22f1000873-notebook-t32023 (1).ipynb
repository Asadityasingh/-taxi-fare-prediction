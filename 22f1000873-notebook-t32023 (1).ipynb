{
 "cells": [
  {
   "cell_type": "code",
   "execution_count": 1,
   "id": "3efd0bb1",
   "metadata": {
    "_cell_guid": "b1076dfc-b9ad-4769-8c92-a6c4dae69d19",
    "_uuid": "8f2839f25d086af736a60e9eeb907d3b93b6e0e5",
    "execution": {
     "iopub.execute_input": "2023-11-30T11:03:36.071315Z",
     "iopub.status.busy": "2023-11-30T11:03:36.070924Z",
     "iopub.status.idle": "2023-11-30T11:03:37.099247Z",
     "shell.execute_reply": "2023-11-30T11:03:37.097399Z"
    },
    "papermill": {
     "duration": 1.046041,
     "end_time": "2023-11-30T11:03:37.103673",
     "exception": false,
     "start_time": "2023-11-30T11:03:36.057632",
     "status": "completed"
    },
    "tags": []
   },
   "outputs": [
    {
     "name": "stdout",
     "output_type": "stream",
     "text": [
      "/kaggle/input/taxi-fare-guru-total-amount-prediction-challenge/sample.csv.csv\n",
      "/kaggle/input/taxi-fare-guru-total-amount-prediction-challenge/train.csv\n",
      "/kaggle/input/taxi-fare-guru-total-amount-prediction-challenge/test.csv\n"
     ]
    }
   ],
   "source": [
    "# This Python 3 environment comes with many helpful analytics libraries installed\n",
    "# It is defined by the kaggle/python Docker image: https://github.com/kaggle/docker-python\n",
    "# For example, here's several helpful packages to load\n",
    "\n",
    "import numpy as np # linear algebra\n",
    "import pandas as pd # data processing, CSV file I/O (e.g. pd.read_csv)\n",
    "\n",
    "# Input data files are available in the read-only \"../input/\" directory\n",
    "# For example, running this (by clicking run or pressing Shift+Enter) will list all files under the input directory\n",
    "\n",
    "import os\n",
    "for dirname, _, filenames in os.walk('/kaggle/input'):\n",
    "    for filename in filenames:\n",
    "        print(os.path.join(dirname, filename))\n",
    "\n",
    "# You can write up to 20GB to the current directory (/kaggle/working/) that gets preserved as output when you create a version using \"Save & Run All\" \n",
    "# You can also write temporary files to /kaggle/temp/, but they won't be saved outside of the current session"
   ]
  },
  {
   "cell_type": "code",
   "execution_count": 2,
   "id": "490b87f1",
   "metadata": {
    "execution": {
     "iopub.execute_input": "2023-11-30T11:03:37.127658Z",
     "iopub.status.busy": "2023-11-30T11:03:37.126728Z",
     "iopub.status.idle": "2023-11-30T11:03:37.131551Z",
     "shell.execute_reply": "2023-11-30T11:03:37.130413Z"
    },
    "papermill": {
     "duration": 0.018659,
     "end_time": "2023-11-30T11:03:37.133963",
     "exception": false,
     "start_time": "2023-11-30T11:03:37.115304",
     "status": "completed"
    },
    "tags": []
   },
   "outputs": [],
   "source": [
    "import pandas as pd"
   ]
  },
  {
   "cell_type": "code",
   "execution_count": 3,
   "id": "a1a31035",
   "metadata": {
    "execution": {
     "iopub.execute_input": "2023-11-30T11:03:37.159239Z",
     "iopub.status.busy": "2023-11-30T11:03:37.158366Z",
     "iopub.status.idle": "2023-11-30T11:03:37.916983Z",
     "shell.execute_reply": "2023-11-30T11:03:37.915408Z"
    },
    "papermill": {
     "duration": 0.774859,
     "end_time": "2023-11-30T11:03:37.919893",
     "exception": false,
     "start_time": "2023-11-30T11:03:37.145034",
     "status": "completed"
    },
    "tags": []
   },
   "outputs": [],
   "source": [
    "sample_df = pd.read_csv(\"/kaggle/input/taxi-fare-guru-total-amount-prediction-challenge/sample.csv.csv\")\n",
    "test_df = pd.read_csv(\"/kaggle/input/taxi-fare-guru-total-amount-prediction-challenge/test.csv\")\n",
    "train_df = pd.read_csv('/kaggle/input/taxi-fare-guru-total-amount-prediction-challenge/train.csv')"
   ]
  },
  {
   "cell_type": "code",
   "execution_count": 4,
   "id": "4ba62d50",
   "metadata": {
    "execution": {
     "iopub.execute_input": "2023-11-30T11:03:37.941965Z",
     "iopub.status.busy": "2023-11-30T11:03:37.941572Z",
     "iopub.status.idle": "2023-11-30T11:03:37.949374Z",
     "shell.execute_reply": "2023-11-30T11:03:37.947900Z"
    },
    "papermill": {
     "duration": 0.021496,
     "end_time": "2023-11-30T11:03:37.951685",
     "exception": false,
     "start_time": "2023-11-30T11:03:37.930189",
     "status": "completed"
    },
    "tags": []
   },
   "outputs": [
    {
     "data": {
      "text/plain": [
       "((175000, 17), (50000, 16))"
      ]
     },
     "execution_count": 4,
     "metadata": {},
     "output_type": "execute_result"
    }
   ],
   "source": [
    "train_df.shape,test_df.shape "
   ]
  },
  {
   "cell_type": "code",
   "execution_count": 5,
   "id": "c3ee210b",
   "metadata": {
    "execution": {
     "iopub.execute_input": "2023-11-30T11:03:37.973633Z",
     "iopub.status.busy": "2023-11-30T11:03:37.973250Z",
     "iopub.status.idle": "2023-11-30T11:03:37.979912Z",
     "shell.execute_reply": "2023-11-30T11:03:37.979202Z"
    },
    "papermill": {
     "duration": 0.020067,
     "end_time": "2023-11-30T11:03:37.981934",
     "exception": false,
     "start_time": "2023-11-30T11:03:37.961867",
     "status": "completed"
    },
    "tags": []
   },
   "outputs": [
    {
     "data": {
      "text/plain": [
       "Index(['VendorID', 'tpep_pickup_datetime', 'tpep_dropoff_datetime',\n",
       "       'passenger_count', 'trip_distance', 'RatecodeID', 'store_and_fwd_flag',\n",
       "       'PULocationID', 'DOLocationID', 'payment_type', 'extra', 'tip_amount',\n",
       "       'tolls_amount', 'improvement_surcharge', 'total_amount',\n",
       "       'congestion_surcharge', 'Airport_fee'],\n",
       "      dtype='object')"
      ]
     },
     "execution_count": 5,
     "metadata": {},
     "output_type": "execute_result"
    }
   ],
   "source": [
    "train_df.columns"
   ]
  },
  {
   "cell_type": "code",
   "execution_count": 6,
   "id": "6c7701b3",
   "metadata": {
    "execution": {
     "iopub.execute_input": "2023-11-30T11:03:38.006955Z",
     "iopub.status.busy": "2023-11-30T11:03:38.006241Z",
     "iopub.status.idle": "2023-11-30T11:03:38.134065Z",
     "shell.execute_reply": "2023-11-30T11:03:38.132491Z"
    },
    "papermill": {
     "duration": 0.144077,
     "end_time": "2023-11-30T11:03:38.136628",
     "exception": false,
     "start_time": "2023-11-30T11:03:37.992551",
     "status": "completed"
    },
    "tags": []
   },
   "outputs": [
    {
     "data": {
      "text/html": [
       "<div>\n",
       "<style scoped>\n",
       "    .dataframe tbody tr th:only-of-type {\n",
       "        vertical-align: middle;\n",
       "    }\n",
       "\n",
       "    .dataframe tbody tr th {\n",
       "        vertical-align: top;\n",
       "    }\n",
       "\n",
       "    .dataframe thead th {\n",
       "        text-align: right;\n",
       "    }\n",
       "</style>\n",
       "<table border=\"1\" class=\"dataframe\">\n",
       "  <thead>\n",
       "    <tr style=\"text-align: right;\">\n",
       "      <th></th>\n",
       "      <th>VendorID</th>\n",
       "      <th>passenger_count</th>\n",
       "      <th>trip_distance</th>\n",
       "      <th>RatecodeID</th>\n",
       "      <th>PULocationID</th>\n",
       "      <th>DOLocationID</th>\n",
       "      <th>extra</th>\n",
       "      <th>tip_amount</th>\n",
       "      <th>tolls_amount</th>\n",
       "      <th>improvement_surcharge</th>\n",
       "      <th>total_amount</th>\n",
       "      <th>congestion_surcharge</th>\n",
       "      <th>Airport_fee</th>\n",
       "    </tr>\n",
       "  </thead>\n",
       "  <tbody>\n",
       "    <tr>\n",
       "      <th>count</th>\n",
       "      <td>175000.000000</td>\n",
       "      <td>168923.000000</td>\n",
       "      <td>175000.000000</td>\n",
       "      <td>168923.000000</td>\n",
       "      <td>175000.000000</td>\n",
       "      <td>175000.000000</td>\n",
       "      <td>175000.000000</td>\n",
       "      <td>175000.000000</td>\n",
       "      <td>175000.000000</td>\n",
       "      <td>175000.000000</td>\n",
       "      <td>175000.000000</td>\n",
       "      <td>168923.000000</td>\n",
       "      <td>168923.000000</td>\n",
       "    </tr>\n",
       "    <tr>\n",
       "      <th>mean</th>\n",
       "      <td>0.728377</td>\n",
       "      <td>1.357678</td>\n",
       "      <td>5.145930</td>\n",
       "      <td>1.518307</td>\n",
       "      <td>132.710349</td>\n",
       "      <td>132.701429</td>\n",
       "      <td>1.932143</td>\n",
       "      <td>6.127497</td>\n",
       "      <td>0.646816</td>\n",
       "      <td>0.979689</td>\n",
       "      <td>29.633901</td>\n",
       "      <td>2.246971</td>\n",
       "      <td>0.158825</td>\n",
       "    </tr>\n",
       "    <tr>\n",
       "      <th>std</th>\n",
       "      <td>0.445606</td>\n",
       "      <td>0.891283</td>\n",
       "      <td>394.971052</td>\n",
       "      <td>6.514678</td>\n",
       "      <td>76.148799</td>\n",
       "      <td>76.192493</td>\n",
       "      <td>1.948497</td>\n",
       "      <td>4.610834</td>\n",
       "      <td>2.328274</td>\n",
       "      <td>0.198775</td>\n",
       "      <td>25.425206</td>\n",
       "      <td>0.819216</td>\n",
       "      <td>0.511968</td>\n",
       "    </tr>\n",
       "    <tr>\n",
       "      <th>min</th>\n",
       "      <td>0.000000</td>\n",
       "      <td>0.000000</td>\n",
       "      <td>0.000000</td>\n",
       "      <td>1.000000</td>\n",
       "      <td>1.000000</td>\n",
       "      <td>1.000000</td>\n",
       "      <td>-7.500000</td>\n",
       "      <td>0.000079</td>\n",
       "      <td>-29.300000</td>\n",
       "      <td>-1.000000</td>\n",
       "      <td>-576.750000</td>\n",
       "      <td>-2.500000</td>\n",
       "      <td>-1.750000</td>\n",
       "    </tr>\n",
       "    <tr>\n",
       "      <th>25%</th>\n",
       "      <td>0.000000</td>\n",
       "      <td>1.000000</td>\n",
       "      <td>1.080000</td>\n",
       "      <td>1.000000</td>\n",
       "      <td>67.000000</td>\n",
       "      <td>67.000000</td>\n",
       "      <td>0.000000</td>\n",
       "      <td>3.473321</td>\n",
       "      <td>0.000000</td>\n",
       "      <td>1.000000</td>\n",
       "      <td>16.300000</td>\n",
       "      <td>2.500000</td>\n",
       "      <td>0.000000</td>\n",
       "    </tr>\n",
       "    <tr>\n",
       "      <th>50%</th>\n",
       "      <td>1.000000</td>\n",
       "      <td>1.000000</td>\n",
       "      <td>1.840000</td>\n",
       "      <td>1.000000</td>\n",
       "      <td>133.000000</td>\n",
       "      <td>133.000000</td>\n",
       "      <td>1.000000</td>\n",
       "      <td>5.286217</td>\n",
       "      <td>0.000000</td>\n",
       "      <td>1.000000</td>\n",
       "      <td>21.450000</td>\n",
       "      <td>2.500000</td>\n",
       "      <td>0.000000</td>\n",
       "    </tr>\n",
       "    <tr>\n",
       "      <th>75%</th>\n",
       "      <td>1.000000</td>\n",
       "      <td>1.000000</td>\n",
       "      <td>3.610000</td>\n",
       "      <td>1.000000</td>\n",
       "      <td>199.000000</td>\n",
       "      <td>199.000000</td>\n",
       "      <td>2.500000</td>\n",
       "      <td>7.502746</td>\n",
       "      <td>0.000000</td>\n",
       "      <td>1.000000</td>\n",
       "      <td>31.800000</td>\n",
       "      <td>2.500000</td>\n",
       "      <td>0.000000</td>\n",
       "    </tr>\n",
       "    <tr>\n",
       "      <th>max</th>\n",
       "      <td>2.000000</td>\n",
       "      <td>9.000000</td>\n",
       "      <td>135182.060000</td>\n",
       "      <td>99.000000</td>\n",
       "      <td>264.000000</td>\n",
       "      <td>264.000000</td>\n",
       "      <td>11.750000</td>\n",
       "      <td>484.876151</td>\n",
       "      <td>80.000000</td>\n",
       "      <td>1.000000</td>\n",
       "      <td>587.250000</td>\n",
       "      <td>2.500000</td>\n",
       "      <td>1.750000</td>\n",
       "    </tr>\n",
       "  </tbody>\n",
       "</table>\n",
       "</div>"
      ],
      "text/plain": [
       "            VendorID  passenger_count  trip_distance     RatecodeID  \\\n",
       "count  175000.000000    168923.000000  175000.000000  168923.000000   \n",
       "mean        0.728377         1.357678       5.145930       1.518307   \n",
       "std         0.445606         0.891283     394.971052       6.514678   \n",
       "min         0.000000         0.000000       0.000000       1.000000   \n",
       "25%         0.000000         1.000000       1.080000       1.000000   \n",
       "50%         1.000000         1.000000       1.840000       1.000000   \n",
       "75%         1.000000         1.000000       3.610000       1.000000   \n",
       "max         2.000000         9.000000  135182.060000      99.000000   \n",
       "\n",
       "        PULocationID   DOLocationID          extra     tip_amount  \\\n",
       "count  175000.000000  175000.000000  175000.000000  175000.000000   \n",
       "mean      132.710349     132.701429       1.932143       6.127497   \n",
       "std        76.148799      76.192493       1.948497       4.610834   \n",
       "min         1.000000       1.000000      -7.500000       0.000079   \n",
       "25%        67.000000      67.000000       0.000000       3.473321   \n",
       "50%       133.000000     133.000000       1.000000       5.286217   \n",
       "75%       199.000000     199.000000       2.500000       7.502746   \n",
       "max       264.000000     264.000000      11.750000     484.876151   \n",
       "\n",
       "        tolls_amount  improvement_surcharge   total_amount  \\\n",
       "count  175000.000000          175000.000000  175000.000000   \n",
       "mean        0.646816               0.979689      29.633901   \n",
       "std         2.328274               0.198775      25.425206   \n",
       "min       -29.300000              -1.000000    -576.750000   \n",
       "25%         0.000000               1.000000      16.300000   \n",
       "50%         0.000000               1.000000      21.450000   \n",
       "75%         0.000000               1.000000      31.800000   \n",
       "max        80.000000               1.000000     587.250000   \n",
       "\n",
       "       congestion_surcharge    Airport_fee  \n",
       "count         168923.000000  168923.000000  \n",
       "mean               2.246971       0.158825  \n",
       "std                0.819216       0.511968  \n",
       "min               -2.500000      -1.750000  \n",
       "25%                2.500000       0.000000  \n",
       "50%                2.500000       0.000000  \n",
       "75%                2.500000       0.000000  \n",
       "max                2.500000       1.750000  "
      ]
     },
     "execution_count": 6,
     "metadata": {},
     "output_type": "execute_result"
    }
   ],
   "source": [
    "train_df.describe()"
   ]
  },
  {
   "cell_type": "code",
   "execution_count": 7,
   "id": "72f2d487",
   "metadata": {
    "execution": {
     "iopub.execute_input": "2023-11-30T11:03:38.159670Z",
     "iopub.status.busy": "2023-11-30T11:03:38.159284Z",
     "iopub.status.idle": "2023-11-30T11:03:38.196844Z",
     "shell.execute_reply": "2023-11-30T11:03:38.195088Z"
    },
    "papermill": {
     "duration": 0.051744,
     "end_time": "2023-11-30T11:03:38.199285",
     "exception": false,
     "start_time": "2023-11-30T11:03:38.147541",
     "status": "completed"
    },
    "tags": []
   },
   "outputs": [
    {
     "data": {
      "text/plain": [
       "VendorID                    0\n",
       "tpep_pickup_datetime        0\n",
       "tpep_dropoff_datetime       0\n",
       "passenger_count          6077\n",
       "trip_distance               0\n",
       "RatecodeID               6077\n",
       "store_and_fwd_flag       6077\n",
       "PULocationID                0\n",
       "DOLocationID                0\n",
       "payment_type                0\n",
       "extra                       0\n",
       "tip_amount                  0\n",
       "tolls_amount                0\n",
       "improvement_surcharge       0\n",
       "total_amount                0\n",
       "congestion_surcharge     6077\n",
       "Airport_fee              6077\n",
       "dtype: int64"
      ]
     },
     "execution_count": 7,
     "metadata": {},
     "output_type": "execute_result"
    }
   ],
   "source": [
    "train_df.isna().sum()"
   ]
  },
  {
   "cell_type": "code",
   "execution_count": 8,
   "id": "74301c57",
   "metadata": {
    "execution": {
     "iopub.execute_input": "2023-11-30T11:03:38.230300Z",
     "iopub.status.busy": "2023-11-30T11:03:38.229798Z",
     "iopub.status.idle": "2023-11-30T11:03:39.831261Z",
     "shell.execute_reply": "2023-11-30T11:03:39.830189Z"
    },
    "papermill": {
     "duration": 1.620295,
     "end_time": "2023-11-30T11:03:39.833793",
     "exception": false,
     "start_time": "2023-11-30T11:03:38.213498",
     "status": "completed"
    },
    "tags": []
   },
   "outputs": [],
   "source": [
    "from sklearn.model_selection import train_test_split"
   ]
  },
  {
   "cell_type": "code",
   "execution_count": 9,
   "id": "370c88ec",
   "metadata": {
    "execution": {
     "iopub.execute_input": "2023-11-30T11:03:39.856291Z",
     "iopub.status.busy": "2023-11-30T11:03:39.855917Z",
     "iopub.status.idle": "2023-11-30T11:03:39.944676Z",
     "shell.execute_reply": "2023-11-30T11:03:39.943585Z"
    },
    "papermill": {
     "duration": 0.10253,
     "end_time": "2023-11-30T11:03:39.946906",
     "exception": false,
     "start_time": "2023-11-30T11:03:39.844376",
     "status": "completed"
    },
    "tags": []
   },
   "outputs": [],
   "source": [
    "X_train,X_test,y_train,y_test = train_test_split(train_df.drop(columns=['total_amount']),train_df['total_amount'],test_size=0.2, random_state=42)"
   ]
  },
  {
   "cell_type": "code",
   "execution_count": 10,
   "id": "7ffb2025",
   "metadata": {
    "execution": {
     "iopub.execute_input": "2023-11-30T11:03:39.970761Z",
     "iopub.status.busy": "2023-11-30T11:03:39.970240Z",
     "iopub.status.idle": "2023-11-30T11:03:39.976830Z",
     "shell.execute_reply": "2023-11-30T11:03:39.975289Z"
    },
    "papermill": {
     "duration": 0.021535,
     "end_time": "2023-11-30T11:03:39.979413",
     "exception": false,
     "start_time": "2023-11-30T11:03:39.957878",
     "status": "completed"
    },
    "tags": []
   },
   "outputs": [
    {
     "data": {
      "text/plain": [
       "((140000, 16), (140000,))"
      ]
     },
     "execution_count": 10,
     "metadata": {},
     "output_type": "execute_result"
    }
   ],
   "source": [
    "X_train.shape,y_train.shape"
   ]
  },
  {
   "cell_type": "code",
   "execution_count": 11,
   "id": "42a548ea",
   "metadata": {
    "execution": {
     "iopub.execute_input": "2023-11-30T11:03:40.003506Z",
     "iopub.status.busy": "2023-11-30T11:03:40.002806Z",
     "iopub.status.idle": "2023-11-30T11:03:40.009028Z",
     "shell.execute_reply": "2023-11-30T11:03:40.007928Z"
    },
    "papermill": {
     "duration": 0.021167,
     "end_time": "2023-11-30T11:03:40.011216",
     "exception": false,
     "start_time": "2023-11-30T11:03:39.990049",
     "status": "completed"
    },
    "tags": []
   },
   "outputs": [
    {
     "data": {
      "text/plain": [
       "((35000, 16), (35000,))"
      ]
     },
     "execution_count": 11,
     "metadata": {},
     "output_type": "execute_result"
    }
   ],
   "source": [
    "X_test.shape,y_test.shape"
   ]
  },
  {
   "cell_type": "code",
   "execution_count": 12,
   "id": "7ba7a891",
   "metadata": {
    "execution": {
     "iopub.execute_input": "2023-11-30T11:03:40.034523Z",
     "iopub.status.busy": "2023-11-30T11:03:40.033163Z",
     "iopub.status.idle": "2023-11-30T11:03:40.059515Z",
     "shell.execute_reply": "2023-11-30T11:03:40.058245Z"
    },
    "papermill": {
     "duration": 0.04045,
     "end_time": "2023-11-30T11:03:40.062073",
     "exception": false,
     "start_time": "2023-11-30T11:03:40.021623",
     "status": "completed"
    },
    "tags": []
   },
   "outputs": [
    {
     "data": {
      "text/html": [
       "<div>\n",
       "<style scoped>\n",
       "    .dataframe tbody tr th:only-of-type {\n",
       "        vertical-align: middle;\n",
       "    }\n",
       "\n",
       "    .dataframe tbody tr th {\n",
       "        vertical-align: top;\n",
       "    }\n",
       "\n",
       "    .dataframe thead th {\n",
       "        text-align: right;\n",
       "    }\n",
       "</style>\n",
       "<table border=\"1\" class=\"dataframe\">\n",
       "  <thead>\n",
       "    <tr style=\"text-align: right;\">\n",
       "      <th></th>\n",
       "      <th>VendorID</th>\n",
       "      <th>tpep_pickup_datetime</th>\n",
       "      <th>tpep_dropoff_datetime</th>\n",
       "      <th>passenger_count</th>\n",
       "      <th>trip_distance</th>\n",
       "      <th>RatecodeID</th>\n",
       "      <th>store_and_fwd_flag</th>\n",
       "      <th>PULocationID</th>\n",
       "      <th>DOLocationID</th>\n",
       "      <th>payment_type</th>\n",
       "      <th>extra</th>\n",
       "      <th>tip_amount</th>\n",
       "      <th>tolls_amount</th>\n",
       "      <th>improvement_surcharge</th>\n",
       "      <th>total_amount</th>\n",
       "      <th>congestion_surcharge</th>\n",
       "      <th>Airport_fee</th>\n",
       "    </tr>\n",
       "  </thead>\n",
       "  <tbody>\n",
       "    <tr>\n",
       "      <th>0</th>\n",
       "      <td>1</td>\n",
       "      <td>2023-06-28 17:20:21</td>\n",
       "      <td>2023-06-28 16:34:45</td>\n",
       "      <td>1.0</td>\n",
       "      <td>2.14</td>\n",
       "      <td>1.0</td>\n",
       "      <td>N</td>\n",
       "      <td>120</td>\n",
       "      <td>9</td>\n",
       "      <td>Credit Card</td>\n",
       "      <td>2.5</td>\n",
       "      <td>7.165589</td>\n",
       "      <td>0.0</td>\n",
       "      <td>1.0</td>\n",
       "      <td>20.64</td>\n",
       "      <td>2.5</td>\n",
       "      <td>0.00</td>\n",
       "    </tr>\n",
       "    <tr>\n",
       "      <th>1</th>\n",
       "      <td>0</td>\n",
       "      <td>2023-06-29 23:05:01</td>\n",
       "      <td>2023-06-29 22:01:35</td>\n",
       "      <td>1.0</td>\n",
       "      <td>2.70</td>\n",
       "      <td>1.0</td>\n",
       "      <td>N</td>\n",
       "      <td>15</td>\n",
       "      <td>215</td>\n",
       "      <td>Credit Card</td>\n",
       "      <td>3.5</td>\n",
       "      <td>6.067401</td>\n",
       "      <td>0.0</td>\n",
       "      <td>1.0</td>\n",
       "      <td>25.55</td>\n",
       "      <td>2.5</td>\n",
       "      <td>0.00</td>\n",
       "    </tr>\n",
       "    <tr>\n",
       "      <th>2</th>\n",
       "      <td>1</td>\n",
       "      <td>2023-06-30 10:19:31</td>\n",
       "      <td>2023-06-30 11:13:10</td>\n",
       "      <td>1.0</td>\n",
       "      <td>1.15</td>\n",
       "      <td>1.0</td>\n",
       "      <td>N</td>\n",
       "      <td>167</td>\n",
       "      <td>223</td>\n",
       "      <td>Credit Card</td>\n",
       "      <td>0.0</td>\n",
       "      <td>4.111547</td>\n",
       "      <td>0.0</td>\n",
       "      <td>1.0</td>\n",
       "      <td>17.64</td>\n",
       "      <td>2.5</td>\n",
       "      <td>0.00</td>\n",
       "    </tr>\n",
       "    <tr>\n",
       "      <th>3</th>\n",
       "      <td>0</td>\n",
       "      <td>2023-06-29 13:23:09</td>\n",
       "      <td>2023-06-29 14:20:01</td>\n",
       "      <td>1.0</td>\n",
       "      <td>0.40</td>\n",
       "      <td>1.0</td>\n",
       "      <td>N</td>\n",
       "      <td>128</td>\n",
       "      <td>239</td>\n",
       "      <td>Credit Card</td>\n",
       "      <td>2.5</td>\n",
       "      <td>6.411079</td>\n",
       "      <td>0.0</td>\n",
       "      <td>1.0</td>\n",
       "      <td>12.80</td>\n",
       "      <td>2.5</td>\n",
       "      <td>0.00</td>\n",
       "    </tr>\n",
       "    <tr>\n",
       "      <th>4</th>\n",
       "      <td>1</td>\n",
       "      <td>2023-06-29 22:03:32</td>\n",
       "      <td>2023-06-29 22:22:22</td>\n",
       "      <td>3.0</td>\n",
       "      <td>1.10</td>\n",
       "      <td>1.0</td>\n",
       "      <td>N</td>\n",
       "      <td>203</td>\n",
       "      <td>52</td>\n",
       "      <td>Credit Card</td>\n",
       "      <td>1.0</td>\n",
       "      <td>4.769377</td>\n",
       "      <td>0.0</td>\n",
       "      <td>1.0</td>\n",
       "      <td>18.00</td>\n",
       "      <td>2.5</td>\n",
       "      <td>0.00</td>\n",
       "    </tr>\n",
       "    <tr>\n",
       "      <th>...</th>\n",
       "      <td>...</td>\n",
       "      <td>...</td>\n",
       "      <td>...</td>\n",
       "      <td>...</td>\n",
       "      <td>...</td>\n",
       "      <td>...</td>\n",
       "      <td>...</td>\n",
       "      <td>...</td>\n",
       "      <td>...</td>\n",
       "      <td>...</td>\n",
       "      <td>...</td>\n",
       "      <td>...</td>\n",
       "      <td>...</td>\n",
       "      <td>...</td>\n",
       "      <td>...</td>\n",
       "      <td>...</td>\n",
       "      <td>...</td>\n",
       "    </tr>\n",
       "    <tr>\n",
       "      <th>174995</th>\n",
       "      <td>1</td>\n",
       "      <td>2023-06-30 22:50:57</td>\n",
       "      <td>2023-06-30 22:22:22</td>\n",
       "      <td>3.0</td>\n",
       "      <td>3.45</td>\n",
       "      <td>1.0</td>\n",
       "      <td>N</td>\n",
       "      <td>147</td>\n",
       "      <td>167</td>\n",
       "      <td>Credit Card</td>\n",
       "      <td>1.0</td>\n",
       "      <td>8.732495</td>\n",
       "      <td>0.0</td>\n",
       "      <td>1.0</td>\n",
       "      <td>28.08</td>\n",
       "      <td>2.5</td>\n",
       "      <td>0.00</td>\n",
       "    </tr>\n",
       "    <tr>\n",
       "      <th>174996</th>\n",
       "      <td>1</td>\n",
       "      <td>2023-06-30 13:03:33</td>\n",
       "      <td>2023-06-30 14:04:57</td>\n",
       "      <td>1.0</td>\n",
       "      <td>9.44</td>\n",
       "      <td>1.0</td>\n",
       "      <td>N</td>\n",
       "      <td>154</td>\n",
       "      <td>191</td>\n",
       "      <td>Cash</td>\n",
       "      <td>5.0</td>\n",
       "      <td>0.283275</td>\n",
       "      <td>0.0</td>\n",
       "      <td>1.0</td>\n",
       "      <td>59.95</td>\n",
       "      <td>2.5</td>\n",
       "      <td>1.75</td>\n",
       "    </tr>\n",
       "    <tr>\n",
       "      <th>174997</th>\n",
       "      <td>0</td>\n",
       "      <td>2023-06-29 11:03:32</td>\n",
       "      <td>2023-06-29 12:13:34</td>\n",
       "      <td>1.0</td>\n",
       "      <td>2.40</td>\n",
       "      <td>1.0</td>\n",
       "      <td>N</td>\n",
       "      <td>168</td>\n",
       "      <td>106</td>\n",
       "      <td>Credit Card</td>\n",
       "      <td>2.5</td>\n",
       "      <td>4.245354</td>\n",
       "      <td>0.0</td>\n",
       "      <td>1.0</td>\n",
       "      <td>33.50</td>\n",
       "      <td>2.5</td>\n",
       "      <td>0.00</td>\n",
       "    </tr>\n",
       "    <tr>\n",
       "      <th>174998</th>\n",
       "      <td>1</td>\n",
       "      <td>2023-06-29 19:47:17</td>\n",
       "      <td>2023-06-29 19:08:55</td>\n",
       "      <td>1.0</td>\n",
       "      <td>4.71</td>\n",
       "      <td>1.0</td>\n",
       "      <td>N</td>\n",
       "      <td>240</td>\n",
       "      <td>100</td>\n",
       "      <td>Credit Card</td>\n",
       "      <td>2.5</td>\n",
       "      <td>10.479776</td>\n",
       "      <td>0.0</td>\n",
       "      <td>1.0</td>\n",
       "      <td>40.80</td>\n",
       "      <td>2.5</td>\n",
       "      <td>0.00</td>\n",
       "    </tr>\n",
       "    <tr>\n",
       "      <th>174999</th>\n",
       "      <td>1</td>\n",
       "      <td>2023-06-30 21:26:43</td>\n",
       "      <td>2023-06-30 22:54:42</td>\n",
       "      <td>1.0</td>\n",
       "      <td>1.01</td>\n",
       "      <td>1.0</td>\n",
       "      <td>N</td>\n",
       "      <td>153</td>\n",
       "      <td>72</td>\n",
       "      <td>Credit Card</td>\n",
       "      <td>1.0</td>\n",
       "      <td>6.541699</td>\n",
       "      <td>0.0</td>\n",
       "      <td>1.0</td>\n",
       "      <td>16.32</td>\n",
       "      <td>2.5</td>\n",
       "      <td>0.00</td>\n",
       "    </tr>\n",
       "  </tbody>\n",
       "</table>\n",
       "<p>175000 rows × 17 columns</p>\n",
       "</div>"
      ],
      "text/plain": [
       "        VendorID tpep_pickup_datetime tpep_dropoff_datetime  passenger_count  \\\n",
       "0              1  2023-06-28 17:20:21   2023-06-28 16:34:45              1.0   \n",
       "1              0  2023-06-29 23:05:01   2023-06-29 22:01:35              1.0   \n",
       "2              1  2023-06-30 10:19:31   2023-06-30 11:13:10              1.0   \n",
       "3              0  2023-06-29 13:23:09   2023-06-29 14:20:01              1.0   \n",
       "4              1  2023-06-29 22:03:32   2023-06-29 22:22:22              3.0   \n",
       "...          ...                  ...                   ...              ...   \n",
       "174995         1  2023-06-30 22:50:57   2023-06-30 22:22:22              3.0   \n",
       "174996         1  2023-06-30 13:03:33   2023-06-30 14:04:57              1.0   \n",
       "174997         0  2023-06-29 11:03:32   2023-06-29 12:13:34              1.0   \n",
       "174998         1  2023-06-29 19:47:17   2023-06-29 19:08:55              1.0   \n",
       "174999         1  2023-06-30 21:26:43   2023-06-30 22:54:42              1.0   \n",
       "\n",
       "        trip_distance  RatecodeID store_and_fwd_flag  PULocationID  \\\n",
       "0                2.14         1.0                  N           120   \n",
       "1                2.70         1.0                  N            15   \n",
       "2                1.15         1.0                  N           167   \n",
       "3                0.40         1.0                  N           128   \n",
       "4                1.10         1.0                  N           203   \n",
       "...               ...         ...                ...           ...   \n",
       "174995           3.45         1.0                  N           147   \n",
       "174996           9.44         1.0                  N           154   \n",
       "174997           2.40         1.0                  N           168   \n",
       "174998           4.71         1.0                  N           240   \n",
       "174999           1.01         1.0                  N           153   \n",
       "\n",
       "        DOLocationID payment_type  extra  tip_amount  tolls_amount  \\\n",
       "0                  9  Credit Card    2.5    7.165589           0.0   \n",
       "1                215  Credit Card    3.5    6.067401           0.0   \n",
       "2                223  Credit Card    0.0    4.111547           0.0   \n",
       "3                239  Credit Card    2.5    6.411079           0.0   \n",
       "4                 52  Credit Card    1.0    4.769377           0.0   \n",
       "...              ...          ...    ...         ...           ...   \n",
       "174995           167  Credit Card    1.0    8.732495           0.0   \n",
       "174996           191         Cash    5.0    0.283275           0.0   \n",
       "174997           106  Credit Card    2.5    4.245354           0.0   \n",
       "174998           100  Credit Card    2.5   10.479776           0.0   \n",
       "174999            72  Credit Card    1.0    6.541699           0.0   \n",
       "\n",
       "        improvement_surcharge  total_amount  congestion_surcharge  Airport_fee  \n",
       "0                         1.0         20.64                   2.5         0.00  \n",
       "1                         1.0         25.55                   2.5         0.00  \n",
       "2                         1.0         17.64                   2.5         0.00  \n",
       "3                         1.0         12.80                   2.5         0.00  \n",
       "4                         1.0         18.00                   2.5         0.00  \n",
       "...                       ...           ...                   ...          ...  \n",
       "174995                    1.0         28.08                   2.5         0.00  \n",
       "174996                    1.0         59.95                   2.5         1.75  \n",
       "174997                    1.0         33.50                   2.5         0.00  \n",
       "174998                    1.0         40.80                   2.5         0.00  \n",
       "174999                    1.0         16.32                   2.5         0.00  \n",
       "\n",
       "[175000 rows x 17 columns]"
      ]
     },
     "execution_count": 12,
     "metadata": {},
     "output_type": "execute_result"
    }
   ],
   "source": [
    "train_df"
   ]
  },
  {
   "cell_type": "code",
   "execution_count": 13,
   "id": "4de7eb40",
   "metadata": {
    "execution": {
     "iopub.execute_input": "2023-11-30T11:03:40.145430Z",
     "iopub.status.busy": "2023-11-30T11:03:40.145029Z",
     "iopub.status.idle": "2023-11-30T11:03:40.151205Z",
     "shell.execute_reply": "2023-11-30T11:03:40.149683Z"
    },
    "papermill": {
     "duration": 0.021817,
     "end_time": "2023-11-30T11:03:40.153610",
     "exception": false,
     "start_time": "2023-11-30T11:03:40.131793",
     "status": "completed"
    },
    "tags": []
   },
   "outputs": [],
   "source": [
    "from sklearn.preprocessing import OneHotEncoder,OrdinalEncoder,StandardScaler\n",
    "\n"
   ]
  },
  {
   "cell_type": "code",
   "execution_count": 14,
   "id": "4284b654",
   "metadata": {
    "execution": {
     "iopub.execute_input": "2023-11-30T11:03:40.178999Z",
     "iopub.status.busy": "2023-11-30T11:03:40.178282Z",
     "iopub.status.idle": "2023-11-30T11:03:40.395077Z",
     "shell.execute_reply": "2023-11-30T11:03:40.393526Z"
    },
    "papermill": {
     "duration": 0.232667,
     "end_time": "2023-11-30T11:03:40.397980",
     "exception": false,
     "start_time": "2023-11-30T11:03:40.165313",
     "status": "completed"
    },
    "tags": []
   },
   "outputs": [],
   "source": [
    "X_train['tpep_pickup_datetime']=pd.to_datetime(X_train['tpep_pickup_datetime'])\n",
    "X_train['tpep_dropoff_datetime']=pd.to_datetime(X_train['tpep_dropoff_datetime'])\n",
    "\n",
    "X_train['tpep_pickup_datetime_year']=X_train['tpep_pickup_datetime'].dt.year\n",
    "X_train['tpep_dropoff_datetime_year']=X_train['tpep_dropoff_datetime'].dt.year\n",
    "\n",
    "X_train['tpep_pickup_datetime_Month']=X_train['tpep_pickup_datetime'].dt.month\n",
    "X_train['tpep_dropoff_datetime_Month']=X_train['tpep_dropoff_datetime'].dt.month\n",
    "\n",
    "X_train['tpep_pickup_datetime_Day']=X_train['tpep_pickup_datetime'].dt.day\n",
    "X_train['tpep_dropoff_datetime_Day']=X_train['tpep_dropoff_datetime'].dt.day\n",
    "\n",
    "X_train['tpep_pickup_datetime_Hour']=X_train['tpep_pickup_datetime'].dt.hour\n",
    "X_train['tpep_dropoff_datetime_Hour']=X_train['tpep_dropoff_datetime'].dt.hour\n",
    "\n",
    "X_train['tpep_pickup_datetime_Minute']=X_train['tpep_pickup_datetime'].dt.minute\n",
    "X_train['tpep_dropoff_datetime_Minute']=X_train['tpep_dropoff_datetime'].dt.minute\n",
    "\n",
    "X_train['tpep_pickup_datetime_Second']=X_train['tpep_pickup_datetime'].dt.second\n",
    "X_train['tpep_dropoff_datetime_Second']=X_train['tpep_dropoff_datetime'].dt.second\n",
    "\n",
    "\n",
    "X_test['tpep_pickup_datetime']=pd.to_datetime(X_test['tpep_pickup_datetime'])\n",
    "X_test['tpep_dropoff_datetime']=pd.to_datetime(X_test['tpep_dropoff_datetime'])\n",
    "\n",
    "X_test['tpep_pickup_datetime_year']=X_test['tpep_pickup_datetime'].dt.year\n",
    "X_test['tpep_dropoff_datetime_year']=X_test['tpep_dropoff_datetime'].dt.year\n",
    "\n",
    "X_test['tpep_pickup_datetime_Month']=X_test['tpep_pickup_datetime'].dt.month\n",
    "X_test['tpep_dropoff_datetime_Month']=X_test['tpep_dropoff_datetime'].dt.month\n",
    "\n",
    "X_test['tpep_pickup_datetime_Day']=X_test['tpep_pickup_datetime'].dt.day\n",
    "X_test['tpep_dropoff_datetime_Day']=X_test['tpep_dropoff_datetime'].dt.day\n",
    "\n",
    "X_test['tpep_pickup_datetime_Hour']=X_test['tpep_pickup_datetime'].dt.hour\n",
    "X_test['tpep_dropoff_datetime_Hour']=X_test['tpep_dropoff_datetime'].dt.hour\n",
    "\n",
    "X_test['tpep_pickup_datetime_Minute']=X_test['tpep_pickup_datetime'].dt.minute\n",
    "X_test['tpep_dropoff_datetime_Minute']=X_test['tpep_dropoff_datetime'].dt.minute\n",
    "\n",
    "X_test['tpep_pickup_datetime_Second']=X_test['tpep_pickup_datetime'].dt.second\n",
    "X_test['tpep_dropoff_datetime_Second']=X_test['tpep_dropoff_datetime'].dt.second"
   ]
  },
  {
   "cell_type": "code",
   "execution_count": 15,
   "id": "379e7eea",
   "metadata": {
    "execution": {
     "iopub.execute_input": "2023-11-30T11:03:40.422018Z",
     "iopub.status.busy": "2023-11-30T11:03:40.421222Z",
     "iopub.status.idle": "2023-11-30T11:03:40.465625Z",
     "shell.execute_reply": "2023-11-30T11:03:40.464201Z"
    },
    "papermill": {
     "duration": 0.058965,
     "end_time": "2023-11-30T11:03:40.468041",
     "exception": false,
     "start_time": "2023-11-30T11:03:40.409076",
     "status": "completed"
    },
    "tags": []
   },
   "outputs": [
    {
     "name": "stdout",
     "output_type": "stream",
     "text": [
      "<class 'pandas.core.frame.DataFrame'>\n",
      "RangeIndex: 175000 entries, 0 to 174999\n",
      "Data columns (total 17 columns):\n",
      " #   Column                 Non-Null Count   Dtype  \n",
      "---  ------                 --------------   -----  \n",
      " 0   VendorID               175000 non-null  int64  \n",
      " 1   tpep_pickup_datetime   175000 non-null  object \n",
      " 2   tpep_dropoff_datetime  175000 non-null  object \n",
      " 3   passenger_count        168923 non-null  float64\n",
      " 4   trip_distance          175000 non-null  float64\n",
      " 5   RatecodeID             168923 non-null  float64\n",
      " 6   store_and_fwd_flag     168923 non-null  object \n",
      " 7   PULocationID           175000 non-null  int64  \n",
      " 8   DOLocationID           175000 non-null  int64  \n",
      " 9   payment_type           175000 non-null  object \n",
      " 10  extra                  175000 non-null  float64\n",
      " 11  tip_amount             175000 non-null  float64\n",
      " 12  tolls_amount           175000 non-null  float64\n",
      " 13  improvement_surcharge  175000 non-null  float64\n",
      " 14  total_amount           175000 non-null  float64\n",
      " 15  congestion_surcharge   168923 non-null  float64\n",
      " 16  Airport_fee            168923 non-null  float64\n",
      "dtypes: float64(10), int64(3), object(4)\n",
      "memory usage: 22.7+ MB\n"
     ]
    }
   ],
   "source": [
    "train_df.info()"
   ]
  },
  {
   "cell_type": "code",
   "execution_count": 16,
   "id": "eb32841f",
   "metadata": {
    "execution": {
     "iopub.execute_input": "2023-11-30T11:03:40.493636Z",
     "iopub.status.busy": "2023-11-30T11:03:40.493220Z",
     "iopub.status.idle": "2023-11-30T11:03:40.517995Z",
     "shell.execute_reply": "2023-11-30T11:03:40.516930Z"
    },
    "papermill": {
     "duration": 0.040451,
     "end_time": "2023-11-30T11:03:40.520426",
     "exception": false,
     "start_time": "2023-11-30T11:03:40.479975",
     "status": "completed"
    },
    "tags": []
   },
   "outputs": [],
   "source": [
    "from sklearn.compose import ColumnTransformer\n",
    "from sklearn.pipeline import Pipeline\n",
    "\n",
    "col_trans = ColumnTransformer([\n",
    "    ('payType_OHE',OneHotEncoder(sparse_output=False),[-8]),\n",
    "    ('store_and_fwd_flag',OrdinalEncoder(),[6]),\n",
    "    ('remainder_store_and_fwd_flag',OrdinalEncoder(),[9]),\n",
    "\n",
    "],remainder = 'passthrough',verbose_feature_names_out=True)\n",
    "\n",
    "\n",
    "\n"
   ]
  },
  {
   "cell_type": "code",
   "execution_count": 17,
   "id": "44d1a807",
   "metadata": {
    "execution": {
     "iopub.execute_input": "2023-11-30T11:03:40.545922Z",
     "iopub.status.busy": "2023-11-30T11:03:40.545072Z",
     "iopub.status.idle": "2023-11-30T11:03:40.573646Z",
     "shell.execute_reply": "2023-11-30T11:03:40.572520Z"
    },
    "papermill": {
     "duration": 0.04419,
     "end_time": "2023-11-30T11:03:40.576509",
     "exception": false,
     "start_time": "2023-11-30T11:03:40.532319",
     "status": "completed"
    },
    "tags": []
   },
   "outputs": [],
   "source": [
    "X_test.drop(columns = ['tpep_pickup_datetime','tpep_dropoff_datetime'],inplace=True)\n",
    "X_train.drop(columns = ['tpep_pickup_datetime','tpep_dropoff_datetime'],inplace=True)\n",
    "# X_train.drop(columns = ['remainder__payment_type'],inplace=True)\n",
    "\n",
    "\n",
    "# X_train.head()"
   ]
  },
  {
   "cell_type": "code",
   "execution_count": 18,
   "id": "48ab85af",
   "metadata": {
    "execution": {
     "iopub.execute_input": "2023-11-30T11:03:40.601520Z",
     "iopub.status.busy": "2023-11-30T11:03:40.601095Z",
     "iopub.status.idle": "2023-11-30T11:03:40.961434Z",
     "shell.execute_reply": "2023-11-30T11:03:40.960692Z"
    },
    "papermill": {
     "duration": 0.375251,
     "end_time": "2023-11-30T11:03:40.963714",
     "exception": false,
     "start_time": "2023-11-30T11:03:40.588463",
     "status": "completed"
    },
    "tags": []
   },
   "outputs": [
    {
     "data": {
      "text/plain": [
       "array([[0.0, 0.0, 1.0, ..., 13, 37, 0],\n",
       "       [0.0, 1.0, 0.0, ..., 54, 24, 42],\n",
       "       [0.0, 0.0, 0.0, ..., 32, 15, 3],\n",
       "       ...,\n",
       "       [0.0, 0.0, 1.0, ..., 0, 8, 1],\n",
       "       [0.0, 0.0, 0.0, ..., 43, 1, 52],\n",
       "       [0.0, 0.0, 0.0, ..., 52, 28, 48]], dtype=object)"
      ]
     },
     "execution_count": 18,
     "metadata": {},
     "output_type": "execute_result"
    }
   ],
   "source": [
    "data_mat_trans_train=col_trans.fit_transform(X_train)\n",
    "\n",
    "data_mat_trans_train\n"
   ]
  },
  {
   "cell_type": "code",
   "execution_count": 19,
   "id": "c38bb11f",
   "metadata": {
    "execution": {
     "iopub.execute_input": "2023-11-30T11:03:40.988872Z",
     "iopub.status.busy": "2023-11-30T11:03:40.987717Z",
     "iopub.status.idle": "2023-11-30T11:03:41.177104Z",
     "shell.execute_reply": "2023-11-30T11:03:41.175703Z"
    },
    "papermill": {
     "duration": 0.204253,
     "end_time": "2023-11-30T11:03:41.179416",
     "exception": false,
     "start_time": "2023-11-30T11:03:40.975163",
     "status": "completed"
    },
    "tags": []
   },
   "outputs": [
    {
     "name": "stdout",
     "output_type": "stream",
     "text": [
      "<class 'pandas.core.frame.DataFrame'>\n",
      "RangeIndex: 35000 entries, 0 to 34999\n",
      "Data columns (total 27 columns):\n",
      " #   Column                                    Non-Null Count  Dtype \n",
      "---  ------                                    --------------  ----- \n",
      " 0   payType_OHE__tpep_pickup_datetime_Day_1   35000 non-null  object\n",
      " 1   payType_OHE__tpep_pickup_datetime_Day_28  35000 non-null  object\n",
      " 2   payType_OHE__tpep_pickup_datetime_Day_29  35000 non-null  object\n",
      " 3   payType_OHE__tpep_pickup_datetime_Day_30  35000 non-null  object\n",
      " 4   store_and_fwd_flag__DOLocationID          35000 non-null  object\n",
      " 5   remainder_store_and_fwd_flag__tip_amount  35000 non-null  object\n",
      " 6   remainder__VendorID                       35000 non-null  object\n",
      " 7   remainder__passenger_count                33764 non-null  object\n",
      " 8   remainder__trip_distance                  35000 non-null  object\n",
      " 9   remainder__RatecodeID                     33764 non-null  object\n",
      " 10  remainder__PULocationID                   35000 non-null  object\n",
      " 11  remainder__extra                          35000 non-null  object\n",
      " 12  remainder__tolls_amount                   35000 non-null  object\n",
      " 13  remainder__improvement_surcharge          35000 non-null  object\n",
      " 14  remainder__congestion_surcharge           33764 non-null  object\n",
      " 15  remainder__Airport_fee                    33764 non-null  object\n",
      " 16  remainder__tpep_pickup_datetime_year      35000 non-null  object\n",
      " 17  remainder__tpep_dropoff_datetime_year     35000 non-null  object\n",
      " 18  remainder__tpep_pickup_datetime_Month     35000 non-null  object\n",
      " 19  remainder__tpep_dropoff_datetime_Month    35000 non-null  object\n",
      " 20  remainder__tpep_dropoff_datetime_Day      35000 non-null  object\n",
      " 21  remainder__tpep_pickup_datetime_Hour      35000 non-null  object\n",
      " 22  remainder__tpep_dropoff_datetime_Hour     35000 non-null  object\n",
      " 23  remainder__tpep_pickup_datetime_Minute    35000 non-null  object\n",
      " 24  remainder__tpep_dropoff_datetime_Minute   35000 non-null  object\n",
      " 25  remainder__tpep_pickup_datetime_Second    35000 non-null  object\n",
      " 26  remainder__tpep_dropoff_datetime_Second   35000 non-null  object\n",
      "dtypes: object(27)\n",
      "memory usage: 7.2+ MB\n"
     ]
    }
   ],
   "source": [
    "pd.DataFrame(data_mat_trans_train)\n",
    "feature_name = col_trans.get_feature_names_out()\n",
    "X_train_CT_df = pd.DataFrame(data_mat_trans_train,columns = feature_name)\n",
    "X_train_CT_df.drop(columns = ['remainder__store_and_fwd_flag','remainder__payment_type'],inplace=True)\n",
    "\n",
    "data_mat_trans_test=col_trans.fit_transform(X_test)\n",
    "pd.DataFrame(data_mat_trans_test)\n",
    "feature_name = col_trans.get_feature_names_out()\n",
    "X_test_CT_df = pd.DataFrame(data_mat_trans_test,columns = feature_name)\n",
    "\n",
    "X_test_CT_df.drop(columns = ['remainder__store_and_fwd_flag','remainder__payment_type'],inplace=True)\n",
    "X_test_CT_df.info()"
   ]
  },
  {
   "cell_type": "code",
   "execution_count": 20,
   "id": "7db87a62",
   "metadata": {
    "execution": {
     "iopub.execute_input": "2023-11-30T11:03:41.203969Z",
     "iopub.status.busy": "2023-11-30T11:03:41.203607Z",
     "iopub.status.idle": "2023-11-30T11:03:41.523160Z",
     "shell.execute_reply": "2023-11-30T11:03:41.521897Z"
    },
    "papermill": {
     "duration": 0.334559,
     "end_time": "2023-11-30T11:03:41.525590",
     "exception": false,
     "start_time": "2023-11-30T11:03:41.191031",
     "status": "completed"
    },
    "tags": []
   },
   "outputs": [],
   "source": [
    "from sklearn.impute import SimpleImputer\n",
    "\n",
    "pipe = Pipeline([\n",
    "    ('SimpleImputer',SimpleImputer(strategy='mean', fill_value=np.nan)),\n",
    "    ('std_scal',StandardScaler()),\n",
    "    \n",
    "])"
   ]
  },
  {
   "cell_type": "code",
   "execution_count": 21,
   "id": "6d6150a1",
   "metadata": {
    "execution": {
     "iopub.execute_input": "2023-11-30T11:03:41.549679Z",
     "iopub.status.busy": "2023-11-30T11:03:41.549290Z",
     "iopub.status.idle": "2023-11-30T11:03:41.873588Z",
     "shell.execute_reply": "2023-11-30T11:03:41.871639Z"
    },
    "papermill": {
     "duration": 0.339531,
     "end_time": "2023-11-30T11:03:41.876604",
     "exception": false,
     "start_time": "2023-11-30T11:03:41.537073",
     "status": "completed"
    },
    "tags": []
   },
   "outputs": [
    {
     "data": {
      "text/plain": [
       "payType_OHE__tpep_pickup_datetime_Day_1     0\n",
       "payType_OHE__tpep_pickup_datetime_Day_28    0\n",
       "payType_OHE__tpep_pickup_datetime_Day_29    0\n",
       "payType_OHE__tpep_pickup_datetime_Day_30    0\n",
       "store_and_fwd_flag__DOLocationID            0\n",
       "remainder_store_and_fwd_flag__tip_amount    0\n",
       "remainder__VendorID                         0\n",
       "remainder__passenger_count                  0\n",
       "remainder__trip_distance                    0\n",
       "remainder__RatecodeID                       0\n",
       "remainder__PULocationID                     0\n",
       "remainder__extra                            0\n",
       "remainder__tolls_amount                     0\n",
       "remainder__improvement_surcharge            0\n",
       "remainder__congestion_surcharge             0\n",
       "remainder__Airport_fee                      0\n",
       "remainder__tpep_pickup_datetime_year        0\n",
       "remainder__tpep_dropoff_datetime_year       0\n",
       "remainder__tpep_pickup_datetime_Month       0\n",
       "remainder__tpep_dropoff_datetime_Month      0\n",
       "remainder__tpep_dropoff_datetime_Day        0\n",
       "remainder__tpep_pickup_datetime_Hour        0\n",
       "remainder__tpep_dropoff_datetime_Hour       0\n",
       "remainder__tpep_pickup_datetime_Minute      0\n",
       "remainder__tpep_dropoff_datetime_Minute     0\n",
       "remainder__tpep_pickup_datetime_Second      0\n",
       "remainder__tpep_dropoff_datetime_Second     0\n",
       "dtype: int64"
      ]
     },
     "execution_count": 21,
     "metadata": {},
     "output_type": "execute_result"
    }
   ],
   "source": [
    "p1=pipe.fit_transform(X_train_CT_df)\n",
    "features = pipe.get_feature_names_out()\n",
    "\n",
    "X_train_CT_df = pd.DataFrame(p1,columns = features)\n",
    "X_train_CT_df.isnull().sum()"
   ]
  },
  {
   "cell_type": "code",
   "execution_count": 22,
   "id": "e4839d0a",
   "metadata": {
    "execution": {
     "iopub.execute_input": "2023-11-30T11:03:41.901671Z",
     "iopub.status.busy": "2023-11-30T11:03:41.901301Z",
     "iopub.status.idle": "2023-11-30T11:03:41.912348Z",
     "shell.execute_reply": "2023-11-30T11:03:41.910800Z"
    },
    "papermill": {
     "duration": 0.026599,
     "end_time": "2023-11-30T11:03:41.915070",
     "exception": false,
     "start_time": "2023-11-30T11:03:41.888471",
     "status": "completed"
    },
    "tags": []
   },
   "outputs": [],
   "source": [
    "from sklearn.dummy import DummyRegressor\n",
    "from sklearn.linear_model import LinearRegression"
   ]
  },
  {
   "cell_type": "code",
   "execution_count": 23,
   "id": "cc47e180",
   "metadata": {
    "execution": {
     "iopub.execute_input": "2023-11-30T11:03:41.941371Z",
     "iopub.status.busy": "2023-11-30T11:03:41.940990Z",
     "iopub.status.idle": "2023-11-30T11:03:42.055540Z",
     "shell.execute_reply": "2023-11-30T11:03:42.054739Z"
    },
    "papermill": {
     "duration": 0.130812,
     "end_time": "2023-11-30T11:03:42.058123",
     "exception": false,
     "start_time": "2023-11-30T11:03:41.927311",
     "status": "completed"
    },
    "tags": []
   },
   "outputs": [
    {
     "data": {
      "text/html": [
       "<style>#sk-container-id-1 {color: black;background-color: white;}#sk-container-id-1 pre{padding: 0;}#sk-container-id-1 div.sk-toggleable {background-color: white;}#sk-container-id-1 label.sk-toggleable__label {cursor: pointer;display: block;width: 100%;margin-bottom: 0;padding: 0.3em;box-sizing: border-box;text-align: center;}#sk-container-id-1 label.sk-toggleable__label-arrow:before {content: \"▸\";float: left;margin-right: 0.25em;color: #696969;}#sk-container-id-1 label.sk-toggleable__label-arrow:hover:before {color: black;}#sk-container-id-1 div.sk-estimator:hover label.sk-toggleable__label-arrow:before {color: black;}#sk-container-id-1 div.sk-toggleable__content {max-height: 0;max-width: 0;overflow: hidden;text-align: left;background-color: #f0f8ff;}#sk-container-id-1 div.sk-toggleable__content pre {margin: 0.2em;color: black;border-radius: 0.25em;background-color: #f0f8ff;}#sk-container-id-1 input.sk-toggleable__control:checked~div.sk-toggleable__content {max-height: 200px;max-width: 100%;overflow: auto;}#sk-container-id-1 input.sk-toggleable__control:checked~label.sk-toggleable__label-arrow:before {content: \"▾\";}#sk-container-id-1 div.sk-estimator input.sk-toggleable__control:checked~label.sk-toggleable__label {background-color: #d4ebff;}#sk-container-id-1 div.sk-label input.sk-toggleable__control:checked~label.sk-toggleable__label {background-color: #d4ebff;}#sk-container-id-1 input.sk-hidden--visually {border: 0;clip: rect(1px 1px 1px 1px);clip: rect(1px, 1px, 1px, 1px);height: 1px;margin: -1px;overflow: hidden;padding: 0;position: absolute;width: 1px;}#sk-container-id-1 div.sk-estimator {font-family: monospace;background-color: #f0f8ff;border: 1px dotted black;border-radius: 0.25em;box-sizing: border-box;margin-bottom: 0.5em;}#sk-container-id-1 div.sk-estimator:hover {background-color: #d4ebff;}#sk-container-id-1 div.sk-parallel-item::after {content: \"\";width: 100%;border-bottom: 1px solid gray;flex-grow: 1;}#sk-container-id-1 div.sk-label:hover label.sk-toggleable__label {background-color: #d4ebff;}#sk-container-id-1 div.sk-serial::before {content: \"\";position: absolute;border-left: 1px solid gray;box-sizing: border-box;top: 0;bottom: 0;left: 50%;z-index: 0;}#sk-container-id-1 div.sk-serial {display: flex;flex-direction: column;align-items: center;background-color: white;padding-right: 0.2em;padding-left: 0.2em;position: relative;}#sk-container-id-1 div.sk-item {position: relative;z-index: 1;}#sk-container-id-1 div.sk-parallel {display: flex;align-items: stretch;justify-content: center;background-color: white;position: relative;}#sk-container-id-1 div.sk-item::before, #sk-container-id-1 div.sk-parallel-item::before {content: \"\";position: absolute;border-left: 1px solid gray;box-sizing: border-box;top: 0;bottom: 0;left: 50%;z-index: -1;}#sk-container-id-1 div.sk-parallel-item {display: flex;flex-direction: column;z-index: 1;position: relative;background-color: white;}#sk-container-id-1 div.sk-parallel-item:first-child::after {align-self: flex-end;width: 50%;}#sk-container-id-1 div.sk-parallel-item:last-child::after {align-self: flex-start;width: 50%;}#sk-container-id-1 div.sk-parallel-item:only-child::after {width: 0;}#sk-container-id-1 div.sk-dashed-wrapped {border: 1px dashed gray;margin: 0 0.4em 0.5em 0.4em;box-sizing: border-box;padding-bottom: 0.4em;background-color: white;}#sk-container-id-1 div.sk-label label {font-family: monospace;font-weight: bold;display: inline-block;line-height: 1.2em;}#sk-container-id-1 div.sk-label-container {text-align: center;}#sk-container-id-1 div.sk-container {/* jupyter's `normalize.less` sets `[hidden] { display: none; }` but bootstrap.min.css set `[hidden] { display: none !important; }` so we also need the `!important` here to be able to override the default hidden behavior on the sphinx rendered scikit-learn.org. See: https://github.com/scikit-learn/scikit-learn/issues/21755 */display: inline-block !important;position: relative;}#sk-container-id-1 div.sk-text-repr-fallback {display: none;}</style><div id=\"sk-container-id-1\" class=\"sk-top-container\"><div class=\"sk-text-repr-fallback\"><pre>LinearRegression()</pre><b>In a Jupyter environment, please rerun this cell to show the HTML representation or trust the notebook. <br />On GitHub, the HTML representation is unable to render, please try loading this page with nbviewer.org.</b></div><div class=\"sk-container\" hidden><div class=\"sk-item\"><div class=\"sk-estimator sk-toggleable\"><input class=\"sk-toggleable__control sk-hidden--visually\" id=\"sk-estimator-id-1\" type=\"checkbox\" checked><label for=\"sk-estimator-id-1\" class=\"sk-toggleable__label sk-toggleable__label-arrow\">LinearRegression</label><div class=\"sk-toggleable__content\"><pre>LinearRegression()</pre></div></div></div></div></div>"
      ],
      "text/plain": [
       "LinearRegression()"
      ]
     },
     "execution_count": 23,
     "metadata": {},
     "output_type": "execute_result"
    }
   ],
   "source": [
    "DR = DummyRegressor()\n",
    "DR.fit(X_train_CT_df,y_train)\n",
    "LR =LinearRegression()\n",
    "LR.fit(X_train_CT_df,y_train)"
   ]
  },
  {
   "cell_type": "code",
   "execution_count": 24,
   "id": "8aff34e9",
   "metadata": {
    "execution": {
     "iopub.execute_input": "2023-11-30T11:03:42.090091Z",
     "iopub.status.busy": "2023-11-30T11:03:42.089729Z",
     "iopub.status.idle": "2023-11-30T11:03:42.094683Z",
     "shell.execute_reply": "2023-11-30T11:03:42.093265Z"
    },
    "papermill": {
     "duration": 0.023638,
     "end_time": "2023-11-30T11:03:42.096863",
     "exception": false,
     "start_time": "2023-11-30T11:03:42.073225",
     "status": "completed"
    },
    "tags": []
   },
   "outputs": [],
   "source": [
    "y_pred = DR.predict(X_test_CT_df)\n"
   ]
  },
  {
   "cell_type": "code",
   "execution_count": 25,
   "id": "559914f2",
   "metadata": {
    "execution": {
     "iopub.execute_input": "2023-11-30T11:03:42.130899Z",
     "iopub.status.busy": "2023-11-30T11:03:42.130533Z",
     "iopub.status.idle": "2023-11-30T11:03:42.247097Z",
     "shell.execute_reply": "2023-11-30T11:03:42.245619Z"
    },
    "papermill": {
     "duration": 0.136659,
     "end_time": "2023-11-30T11:03:42.249395",
     "exception": false,
     "start_time": "2023-11-30T11:03:42.112736",
     "status": "completed"
    },
    "tags": []
   },
   "outputs": [
    {
     "data": {
      "text/plain": [
       "(-0.00013309545550375113,\n",
       " array([-1.67086835e-04, -1.66209467e-04, -1.61300342e-05, -1.15286963e-04,\n",
       "        -2.00763978e-04]))"
      ]
     },
     "execution_count": 25,
     "metadata": {},
     "output_type": "execute_result"
    }
   ],
   "source": [
    "from sklearn.metrics import mean_absolute_error\n",
    "from sklearn.model_selection import cross_val_score\n",
    "scores = cross_val_score(DR, X_train, y_train, cv=5, scoring='r2')\n",
    "scores.mean(),scores"
   ]
  },
  {
   "cell_type": "markdown",
   "id": "19701a2d",
   "metadata": {
    "papermill": {
     "duration": 0.012162,
     "end_time": "2023-11-30T11:03:42.274275",
     "exception": false,
     "start_time": "2023-11-30T11:03:42.262113",
     "status": "completed"
    },
    "tags": []
   },
   "source": [
    "KNN"
   ]
  },
  {
   "cell_type": "code",
   "execution_count": 26,
   "id": "6ce1956e",
   "metadata": {
    "execution": {
     "iopub.execute_input": "2023-11-30T11:03:42.300317Z",
     "iopub.status.busy": "2023-11-30T11:03:42.299974Z",
     "iopub.status.idle": "2023-11-30T11:03:42.313730Z",
     "shell.execute_reply": "2023-11-30T11:03:42.312114Z"
    },
    "papermill": {
     "duration": 0.029793,
     "end_time": "2023-11-30T11:03:42.316352",
     "exception": false,
     "start_time": "2023-11-30T11:03:42.286559",
     "status": "completed"
    },
    "tags": []
   },
   "outputs": [
    {
     "data": {
      "text/html": [
       "<style>#sk-container-id-2 {color: black;background-color: white;}#sk-container-id-2 pre{padding: 0;}#sk-container-id-2 div.sk-toggleable {background-color: white;}#sk-container-id-2 label.sk-toggleable__label {cursor: pointer;display: block;width: 100%;margin-bottom: 0;padding: 0.3em;box-sizing: border-box;text-align: center;}#sk-container-id-2 label.sk-toggleable__label-arrow:before {content: \"▸\";float: left;margin-right: 0.25em;color: #696969;}#sk-container-id-2 label.sk-toggleable__label-arrow:hover:before {color: black;}#sk-container-id-2 div.sk-estimator:hover label.sk-toggleable__label-arrow:before {color: black;}#sk-container-id-2 div.sk-toggleable__content {max-height: 0;max-width: 0;overflow: hidden;text-align: left;background-color: #f0f8ff;}#sk-container-id-2 div.sk-toggleable__content pre {margin: 0.2em;color: black;border-radius: 0.25em;background-color: #f0f8ff;}#sk-container-id-2 input.sk-toggleable__control:checked~div.sk-toggleable__content {max-height: 200px;max-width: 100%;overflow: auto;}#sk-container-id-2 input.sk-toggleable__control:checked~label.sk-toggleable__label-arrow:before {content: \"▾\";}#sk-container-id-2 div.sk-estimator input.sk-toggleable__control:checked~label.sk-toggleable__label {background-color: #d4ebff;}#sk-container-id-2 div.sk-label input.sk-toggleable__control:checked~label.sk-toggleable__label {background-color: #d4ebff;}#sk-container-id-2 input.sk-hidden--visually {border: 0;clip: rect(1px 1px 1px 1px);clip: rect(1px, 1px, 1px, 1px);height: 1px;margin: -1px;overflow: hidden;padding: 0;position: absolute;width: 1px;}#sk-container-id-2 div.sk-estimator {font-family: monospace;background-color: #f0f8ff;border: 1px dotted black;border-radius: 0.25em;box-sizing: border-box;margin-bottom: 0.5em;}#sk-container-id-2 div.sk-estimator:hover {background-color: #d4ebff;}#sk-container-id-2 div.sk-parallel-item::after {content: \"\";width: 100%;border-bottom: 1px solid gray;flex-grow: 1;}#sk-container-id-2 div.sk-label:hover label.sk-toggleable__label {background-color: #d4ebff;}#sk-container-id-2 div.sk-serial::before {content: \"\";position: absolute;border-left: 1px solid gray;box-sizing: border-box;top: 0;bottom: 0;left: 50%;z-index: 0;}#sk-container-id-2 div.sk-serial {display: flex;flex-direction: column;align-items: center;background-color: white;padding-right: 0.2em;padding-left: 0.2em;position: relative;}#sk-container-id-2 div.sk-item {position: relative;z-index: 1;}#sk-container-id-2 div.sk-parallel {display: flex;align-items: stretch;justify-content: center;background-color: white;position: relative;}#sk-container-id-2 div.sk-item::before, #sk-container-id-2 div.sk-parallel-item::before {content: \"\";position: absolute;border-left: 1px solid gray;box-sizing: border-box;top: 0;bottom: 0;left: 50%;z-index: -1;}#sk-container-id-2 div.sk-parallel-item {display: flex;flex-direction: column;z-index: 1;position: relative;background-color: white;}#sk-container-id-2 div.sk-parallel-item:first-child::after {align-self: flex-end;width: 50%;}#sk-container-id-2 div.sk-parallel-item:last-child::after {align-self: flex-start;width: 50%;}#sk-container-id-2 div.sk-parallel-item:only-child::after {width: 0;}#sk-container-id-2 div.sk-dashed-wrapped {border: 1px dashed gray;margin: 0 0.4em 0.5em 0.4em;box-sizing: border-box;padding-bottom: 0.4em;background-color: white;}#sk-container-id-2 div.sk-label label {font-family: monospace;font-weight: bold;display: inline-block;line-height: 1.2em;}#sk-container-id-2 div.sk-label-container {text-align: center;}#sk-container-id-2 div.sk-container {/* jupyter's `normalize.less` sets `[hidden] { display: none; }` but bootstrap.min.css set `[hidden] { display: none !important; }` so we also need the `!important` here to be able to override the default hidden behavior on the sphinx rendered scikit-learn.org. See: https://github.com/scikit-learn/scikit-learn/issues/21755 */display: inline-block !important;position: relative;}#sk-container-id-2 div.sk-text-repr-fallback {display: none;}</style><div id=\"sk-container-id-2\" class=\"sk-top-container\"><div class=\"sk-text-repr-fallback\"><pre>KNeighborsRegressor()</pre><b>In a Jupyter environment, please rerun this cell to show the HTML representation or trust the notebook. <br />On GitHub, the HTML representation is unable to render, please try loading this page with nbviewer.org.</b></div><div class=\"sk-container\" hidden><div class=\"sk-item\"><div class=\"sk-estimator sk-toggleable\"><input class=\"sk-toggleable__control sk-hidden--visually\" id=\"sk-estimator-id-2\" type=\"checkbox\" checked><label for=\"sk-estimator-id-2\" class=\"sk-toggleable__label sk-toggleable__label-arrow\">KNeighborsRegressor</label><div class=\"sk-toggleable__content\"><pre>KNeighborsRegressor()</pre></div></div></div></div></div>"
      ],
      "text/plain": [
       "KNeighborsRegressor()"
      ]
     },
     "execution_count": 26,
     "metadata": {},
     "output_type": "execute_result"
    }
   ],
   "source": [
    "from sklearn.neighbors import KNeighborsRegressor\n",
    "k=KNeighborsRegressor(n_neighbors=5)\n",
    "k.fit(X_train_CT_df, y_train)"
   ]
  },
  {
   "cell_type": "code",
   "execution_count": 27,
   "id": "af635a7b",
   "metadata": {
    "execution": {
     "iopub.execute_input": "2023-11-30T11:03:42.342229Z",
     "iopub.status.busy": "2023-11-30T11:03:42.341869Z",
     "iopub.status.idle": "2023-11-30T11:03:59.757990Z",
     "shell.execute_reply": "2023-11-30T11:03:59.756473Z"
    },
    "papermill": {
     "duration": 17.431895,
     "end_time": "2023-11-30T11:03:59.760486",
     "exception": false,
     "start_time": "2023-11-30T11:03:42.328591",
     "status": "completed"
    },
    "tags": []
   },
   "outputs": [
    {
     "name": "stdout",
     "output_type": "stream",
     "text": [
      "Collecting numpy==1.22.0\r\n",
      "  Downloading numpy-1.22.0-cp310-cp310-manylinux_2_17_x86_64.manylinux2014_x86_64.whl (16.8 MB)\r\n",
      "\u001b[2K     \u001b[90m━━━━━━━━━━━━━━━━━━━━━━━━━━━━━━━━━━━━━━━━\u001b[0m \u001b[32m16.8/16.8 MB\u001b[0m \u001b[31m54.3 MB/s\u001b[0m eta \u001b[36m0:00:00\u001b[0m\r\n",
      "\u001b[?25hInstalling collected packages: numpy\r\n",
      "  Attempting uninstall: numpy\r\n",
      "    Found existing installation: numpy 1.23.5\r\n",
      "    Uninstalling numpy-1.23.5:\r\n",
      "      Successfully uninstalled numpy-1.23.5\r\n",
      "\u001b[31mERROR: pip's dependency resolver does not currently take into account all the packages that are installed. This behaviour is the source of the following dependency conflicts.\r\n",
      "apache-beam 2.46.0 requires dill<0.3.2,>=0.3.1.1, but you have dill 0.3.7 which is incompatible.\r\n",
      "chex 0.1.82 requires numpy>=1.25.0, but you have numpy 1.22.0 which is incompatible.\r\n",
      "librosa 0.10.1 requires numpy!=1.22.0,!=1.22.1,!=1.22.2,>=1.20.3, but you have numpy 1.22.0 which is incompatible.\r\n",
      "momepy 0.6.0 requires shapely>=2, but you have shapely 1.8.5.post1 which is incompatible.\r\n",
      "pymc3 3.11.5 requires scipy<1.8.0,>=1.7.3, but you have scipy 1.11.2 which is incompatible.\r\n",
      "ydata-profiling 4.3.1 requires scipy<1.11,>=1.4.1, but you have scipy 1.11.2 which is incompatible.\u001b[0m\u001b[31m\r\n",
      "\u001b[0mSuccessfully installed numpy-1.22.0\r\n"
     ]
    }
   ],
   "source": [
    "!pip install --upgrade numpy==1.22.0  # Replace with a version between 1.16.5 and 1.23.0\n"
   ]
  },
  {
   "cell_type": "code",
   "execution_count": 28,
   "id": "dda58396",
   "metadata": {
    "execution": {
     "iopub.execute_input": "2023-11-30T11:03:59.788994Z",
     "iopub.status.busy": "2023-11-30T11:03:59.788630Z",
     "iopub.status.idle": "2023-11-30T11:08:17.400741Z",
     "shell.execute_reply": "2023-11-30T11:08:17.399784Z"
    },
    "papermill": {
     "duration": 257.641627,
     "end_time": "2023-11-30T11:08:17.415839",
     "exception": false,
     "start_time": "2023-11-30T11:03:59.774212",
     "status": "completed"
    },
    "tags": []
   },
   "outputs": [
    {
     "data": {
      "text/html": [
       "<style>#sk-container-id-3 {color: black;background-color: white;}#sk-container-id-3 pre{padding: 0;}#sk-container-id-3 div.sk-toggleable {background-color: white;}#sk-container-id-3 label.sk-toggleable__label {cursor: pointer;display: block;width: 100%;margin-bottom: 0;padding: 0.3em;box-sizing: border-box;text-align: center;}#sk-container-id-3 label.sk-toggleable__label-arrow:before {content: \"▸\";float: left;margin-right: 0.25em;color: #696969;}#sk-container-id-3 label.sk-toggleable__label-arrow:hover:before {color: black;}#sk-container-id-3 div.sk-estimator:hover label.sk-toggleable__label-arrow:before {color: black;}#sk-container-id-3 div.sk-toggleable__content {max-height: 0;max-width: 0;overflow: hidden;text-align: left;background-color: #f0f8ff;}#sk-container-id-3 div.sk-toggleable__content pre {margin: 0.2em;color: black;border-radius: 0.25em;background-color: #f0f8ff;}#sk-container-id-3 input.sk-toggleable__control:checked~div.sk-toggleable__content {max-height: 200px;max-width: 100%;overflow: auto;}#sk-container-id-3 input.sk-toggleable__control:checked~label.sk-toggleable__label-arrow:before {content: \"▾\";}#sk-container-id-3 div.sk-estimator input.sk-toggleable__control:checked~label.sk-toggleable__label {background-color: #d4ebff;}#sk-container-id-3 div.sk-label input.sk-toggleable__control:checked~label.sk-toggleable__label {background-color: #d4ebff;}#sk-container-id-3 input.sk-hidden--visually {border: 0;clip: rect(1px 1px 1px 1px);clip: rect(1px, 1px, 1px, 1px);height: 1px;margin: -1px;overflow: hidden;padding: 0;position: absolute;width: 1px;}#sk-container-id-3 div.sk-estimator {font-family: monospace;background-color: #f0f8ff;border: 1px dotted black;border-radius: 0.25em;box-sizing: border-box;margin-bottom: 0.5em;}#sk-container-id-3 div.sk-estimator:hover {background-color: #d4ebff;}#sk-container-id-3 div.sk-parallel-item::after {content: \"\";width: 100%;border-bottom: 1px solid gray;flex-grow: 1;}#sk-container-id-3 div.sk-label:hover label.sk-toggleable__label {background-color: #d4ebff;}#sk-container-id-3 div.sk-serial::before {content: \"\";position: absolute;border-left: 1px solid gray;box-sizing: border-box;top: 0;bottom: 0;left: 50%;z-index: 0;}#sk-container-id-3 div.sk-serial {display: flex;flex-direction: column;align-items: center;background-color: white;padding-right: 0.2em;padding-left: 0.2em;position: relative;}#sk-container-id-3 div.sk-item {position: relative;z-index: 1;}#sk-container-id-3 div.sk-parallel {display: flex;align-items: stretch;justify-content: center;background-color: white;position: relative;}#sk-container-id-3 div.sk-item::before, #sk-container-id-3 div.sk-parallel-item::before {content: \"\";position: absolute;border-left: 1px solid gray;box-sizing: border-box;top: 0;bottom: 0;left: 50%;z-index: -1;}#sk-container-id-3 div.sk-parallel-item {display: flex;flex-direction: column;z-index: 1;position: relative;background-color: white;}#sk-container-id-3 div.sk-parallel-item:first-child::after {align-self: flex-end;width: 50%;}#sk-container-id-3 div.sk-parallel-item:last-child::after {align-self: flex-start;width: 50%;}#sk-container-id-3 div.sk-parallel-item:only-child::after {width: 0;}#sk-container-id-3 div.sk-dashed-wrapped {border: 1px dashed gray;margin: 0 0.4em 0.5em 0.4em;box-sizing: border-box;padding-bottom: 0.4em;background-color: white;}#sk-container-id-3 div.sk-label label {font-family: monospace;font-weight: bold;display: inline-block;line-height: 1.2em;}#sk-container-id-3 div.sk-label-container {text-align: center;}#sk-container-id-3 div.sk-container {/* jupyter's `normalize.less` sets `[hidden] { display: none; }` but bootstrap.min.css set `[hidden] { display: none !important; }` so we also need the `!important` here to be able to override the default hidden behavior on the sphinx rendered scikit-learn.org. See: https://github.com/scikit-learn/scikit-learn/issues/21755 */display: inline-block !important;position: relative;}#sk-container-id-3 div.sk-text-repr-fallback {display: none;}</style><div id=\"sk-container-id-3\" class=\"sk-top-container\"><div class=\"sk-text-repr-fallback\"><pre>GridSearchCV(cv=5, estimator=KNeighborsRegressor(), n_jobs=-1,\n",
       "             param_grid=[{&#x27;n_neighbors&#x27;: [1, 2, 3, 4, 5, 6, 7, 8, 9]}],\n",
       "             scoring=&#x27;neg_mean_squared_error&#x27;)</pre><b>In a Jupyter environment, please rerun this cell to show the HTML representation or trust the notebook. <br />On GitHub, the HTML representation is unable to render, please try loading this page with nbviewer.org.</b></div><div class=\"sk-container\" hidden><div class=\"sk-item sk-dashed-wrapped\"><div class=\"sk-label-container\"><div class=\"sk-label sk-toggleable\"><input class=\"sk-toggleable__control sk-hidden--visually\" id=\"sk-estimator-id-3\" type=\"checkbox\" ><label for=\"sk-estimator-id-3\" class=\"sk-toggleable__label sk-toggleable__label-arrow\">GridSearchCV</label><div class=\"sk-toggleable__content\"><pre>GridSearchCV(cv=5, estimator=KNeighborsRegressor(), n_jobs=-1,\n",
       "             param_grid=[{&#x27;n_neighbors&#x27;: [1, 2, 3, 4, 5, 6, 7, 8, 9]}],\n",
       "             scoring=&#x27;neg_mean_squared_error&#x27;)</pre></div></div></div><div class=\"sk-parallel\"><div class=\"sk-parallel-item\"><div class=\"sk-item\"><div class=\"sk-label-container\"><div class=\"sk-label sk-toggleable\"><input class=\"sk-toggleable__control sk-hidden--visually\" id=\"sk-estimator-id-4\" type=\"checkbox\" ><label for=\"sk-estimator-id-4\" class=\"sk-toggleable__label sk-toggleable__label-arrow\">estimator: KNeighborsRegressor</label><div class=\"sk-toggleable__content\"><pre>KNeighborsRegressor()</pre></div></div></div><div class=\"sk-serial\"><div class=\"sk-item\"><div class=\"sk-estimator sk-toggleable\"><input class=\"sk-toggleable__control sk-hidden--visually\" id=\"sk-estimator-id-5\" type=\"checkbox\" ><label for=\"sk-estimator-id-5\" class=\"sk-toggleable__label sk-toggleable__label-arrow\">KNeighborsRegressor</label><div class=\"sk-toggleable__content\"><pre>KNeighborsRegressor()</pre></div></div></div></div></div></div></div></div></div></div>"
      ],
      "text/plain": [
       "GridSearchCV(cv=5, estimator=KNeighborsRegressor(), n_jobs=-1,\n",
       "             param_grid=[{'n_neighbors': [1, 2, 3, 4, 5, 6, 7, 8, 9]}],\n",
       "             scoring='neg_mean_squared_error')"
      ]
     },
     "execution_count": 28,
     "metadata": {},
     "output_type": "execute_result"
    }
   ],
   "source": [
    "from sklearn.model_selection import GridSearchCV\n",
    "\n",
    "param_grid = [\n",
    "    {\"n_neighbors\":list(range(1, 10))}\n",
    "]\n",
    "grid_seaarch=GridSearchCV(k,param_grid=param_grid,cv=5,scoring=\"neg_mean_squared_error\",n_jobs=-1)\n",
    "grid_seaarch.fit(X_train_CT_df, y_train)"
   ]
  },
  {
   "cell_type": "code",
   "execution_count": 29,
   "id": "88cfb918",
   "metadata": {
    "execution": {
     "iopub.execute_input": "2023-11-30T11:08:17.444306Z",
     "iopub.status.busy": "2023-11-30T11:08:17.443911Z",
     "iopub.status.idle": "2023-11-30T11:08:17.449226Z",
     "shell.execute_reply": "2023-11-30T11:08:17.447933Z"
    },
    "papermill": {
     "duration": 0.021925,
     "end_time": "2023-11-30T11:08:17.451534",
     "exception": false,
     "start_time": "2023-11-30T11:08:17.429609",
     "status": "completed"
    },
    "tags": []
   },
   "outputs": [],
   "source": [
    "best_regressor=grid_seaarch.best_estimator_"
   ]
  },
  {
   "cell_type": "code",
   "execution_count": 30,
   "id": "5eae0a10",
   "metadata": {
    "execution": {
     "iopub.execute_input": "2023-11-30T11:08:17.481372Z",
     "iopub.status.busy": "2023-11-30T11:08:17.480986Z",
     "iopub.status.idle": "2023-11-30T11:08:17.489826Z",
     "shell.execute_reply": "2023-11-30T11:08:17.488129Z"
    },
    "papermill": {
     "duration": 0.026771,
     "end_time": "2023-11-30T11:08:17.492109",
     "exception": false,
     "start_time": "2023-11-30T11:08:17.465338",
     "status": "completed"
    },
    "tags": []
   },
   "outputs": [
    {
     "data": {
      "text/html": [
       "<style>#sk-container-id-4 {color: black;background-color: white;}#sk-container-id-4 pre{padding: 0;}#sk-container-id-4 div.sk-toggleable {background-color: white;}#sk-container-id-4 label.sk-toggleable__label {cursor: pointer;display: block;width: 100%;margin-bottom: 0;padding: 0.3em;box-sizing: border-box;text-align: center;}#sk-container-id-4 label.sk-toggleable__label-arrow:before {content: \"▸\";float: left;margin-right: 0.25em;color: #696969;}#sk-container-id-4 label.sk-toggleable__label-arrow:hover:before {color: black;}#sk-container-id-4 div.sk-estimator:hover label.sk-toggleable__label-arrow:before {color: black;}#sk-container-id-4 div.sk-toggleable__content {max-height: 0;max-width: 0;overflow: hidden;text-align: left;background-color: #f0f8ff;}#sk-container-id-4 div.sk-toggleable__content pre {margin: 0.2em;color: black;border-radius: 0.25em;background-color: #f0f8ff;}#sk-container-id-4 input.sk-toggleable__control:checked~div.sk-toggleable__content {max-height: 200px;max-width: 100%;overflow: auto;}#sk-container-id-4 input.sk-toggleable__control:checked~label.sk-toggleable__label-arrow:before {content: \"▾\";}#sk-container-id-4 div.sk-estimator input.sk-toggleable__control:checked~label.sk-toggleable__label {background-color: #d4ebff;}#sk-container-id-4 div.sk-label input.sk-toggleable__control:checked~label.sk-toggleable__label {background-color: #d4ebff;}#sk-container-id-4 input.sk-hidden--visually {border: 0;clip: rect(1px 1px 1px 1px);clip: rect(1px, 1px, 1px, 1px);height: 1px;margin: -1px;overflow: hidden;padding: 0;position: absolute;width: 1px;}#sk-container-id-4 div.sk-estimator {font-family: monospace;background-color: #f0f8ff;border: 1px dotted black;border-radius: 0.25em;box-sizing: border-box;margin-bottom: 0.5em;}#sk-container-id-4 div.sk-estimator:hover {background-color: #d4ebff;}#sk-container-id-4 div.sk-parallel-item::after {content: \"\";width: 100%;border-bottom: 1px solid gray;flex-grow: 1;}#sk-container-id-4 div.sk-label:hover label.sk-toggleable__label {background-color: #d4ebff;}#sk-container-id-4 div.sk-serial::before {content: \"\";position: absolute;border-left: 1px solid gray;box-sizing: border-box;top: 0;bottom: 0;left: 50%;z-index: 0;}#sk-container-id-4 div.sk-serial {display: flex;flex-direction: column;align-items: center;background-color: white;padding-right: 0.2em;padding-left: 0.2em;position: relative;}#sk-container-id-4 div.sk-item {position: relative;z-index: 1;}#sk-container-id-4 div.sk-parallel {display: flex;align-items: stretch;justify-content: center;background-color: white;position: relative;}#sk-container-id-4 div.sk-item::before, #sk-container-id-4 div.sk-parallel-item::before {content: \"\";position: absolute;border-left: 1px solid gray;box-sizing: border-box;top: 0;bottom: 0;left: 50%;z-index: -1;}#sk-container-id-4 div.sk-parallel-item {display: flex;flex-direction: column;z-index: 1;position: relative;background-color: white;}#sk-container-id-4 div.sk-parallel-item:first-child::after {align-self: flex-end;width: 50%;}#sk-container-id-4 div.sk-parallel-item:last-child::after {align-self: flex-start;width: 50%;}#sk-container-id-4 div.sk-parallel-item:only-child::after {width: 0;}#sk-container-id-4 div.sk-dashed-wrapped {border: 1px dashed gray;margin: 0 0.4em 0.5em 0.4em;box-sizing: border-box;padding-bottom: 0.4em;background-color: white;}#sk-container-id-4 div.sk-label label {font-family: monospace;font-weight: bold;display: inline-block;line-height: 1.2em;}#sk-container-id-4 div.sk-label-container {text-align: center;}#sk-container-id-4 div.sk-container {/* jupyter's `normalize.less` sets `[hidden] { display: none; }` but bootstrap.min.css set `[hidden] { display: none !important; }` so we also need the `!important` here to be able to override the default hidden behavior on the sphinx rendered scikit-learn.org. See: https://github.com/scikit-learn/scikit-learn/issues/21755 */display: inline-block !important;position: relative;}#sk-container-id-4 div.sk-text-repr-fallback {display: none;}</style><div id=\"sk-container-id-4\" class=\"sk-top-container\"><div class=\"sk-text-repr-fallback\"><pre>KNeighborsRegressor(n_neighbors=9)</pre><b>In a Jupyter environment, please rerun this cell to show the HTML representation or trust the notebook. <br />On GitHub, the HTML representation is unable to render, please try loading this page with nbviewer.org.</b></div><div class=\"sk-container\" hidden><div class=\"sk-item\"><div class=\"sk-estimator sk-toggleable\"><input class=\"sk-toggleable__control sk-hidden--visually\" id=\"sk-estimator-id-6\" type=\"checkbox\" checked><label for=\"sk-estimator-id-6\" class=\"sk-toggleable__label sk-toggleable__label-arrow\">KNeighborsRegressor</label><div class=\"sk-toggleable__content\"><pre>KNeighborsRegressor(n_neighbors=9)</pre></div></div></div></div></div>"
      ],
      "text/plain": [
       "KNeighborsRegressor(n_neighbors=9)"
      ]
     },
     "execution_count": 30,
     "metadata": {},
     "output_type": "execute_result"
    }
   ],
   "source": [
    "best_regressor"
   ]
  },
  {
   "cell_type": "code",
   "execution_count": 31,
   "id": "87990649",
   "metadata": {
    "execution": {
     "iopub.execute_input": "2023-11-30T11:08:17.520473Z",
     "iopub.status.busy": "2023-11-30T11:08:17.520076Z",
     "iopub.status.idle": "2023-11-30T11:08:17.527506Z",
     "shell.execute_reply": "2023-11-30T11:08:17.526248Z"
    },
    "papermill": {
     "duration": 0.024709,
     "end_time": "2023-11-30T11:08:17.530258",
     "exception": false,
     "start_time": "2023-11-30T11:08:17.505549",
     "status": "completed"
    },
    "tags": []
   },
   "outputs": [
    {
     "data": {
      "text/plain": [
       "{'n_neighbors': 9}"
      ]
     },
     "execution_count": 31,
     "metadata": {},
     "output_type": "execute_result"
    }
   ],
   "source": [
    "grid_seaarch.best_params_"
   ]
  },
  {
   "cell_type": "code",
   "execution_count": 32,
   "id": "7895a059",
   "metadata": {
    "execution": {
     "iopub.execute_input": "2023-11-30T11:08:17.558810Z",
     "iopub.status.busy": "2023-11-30T11:08:17.557991Z",
     "iopub.status.idle": "2023-11-30T11:08:17.595412Z",
     "shell.execute_reply": "2023-11-30T11:08:17.594293Z"
    },
    "papermill": {
     "duration": 0.053785,
     "end_time": "2023-11-30T11:08:17.597687",
     "exception": false,
     "start_time": "2023-11-30T11:08:17.543902",
     "status": "completed"
    },
    "tags": []
   },
   "outputs": [
    {
     "data": {
      "text/plain": [
       "payType_OHE__tpep_pickup_datetime_Day_1        0\n",
       "payType_OHE__tpep_pickup_datetime_Day_28       0\n",
       "payType_OHE__tpep_pickup_datetime_Day_29       0\n",
       "payType_OHE__tpep_pickup_datetime_Day_30       0\n",
       "store_and_fwd_flag__DOLocationID               0\n",
       "remainder_store_and_fwd_flag__tip_amount       0\n",
       "remainder__VendorID                            0\n",
       "remainder__passenger_count                  1236\n",
       "remainder__trip_distance                       0\n",
       "remainder__RatecodeID                       1236\n",
       "remainder__PULocationID                        0\n",
       "remainder__extra                               0\n",
       "remainder__tolls_amount                        0\n",
       "remainder__improvement_surcharge               0\n",
       "remainder__congestion_surcharge             1236\n",
       "remainder__Airport_fee                      1236\n",
       "remainder__tpep_pickup_datetime_year           0\n",
       "remainder__tpep_dropoff_datetime_year          0\n",
       "remainder__tpep_pickup_datetime_Month          0\n",
       "remainder__tpep_dropoff_datetime_Month         0\n",
       "remainder__tpep_dropoff_datetime_Day           0\n",
       "remainder__tpep_pickup_datetime_Hour           0\n",
       "remainder__tpep_dropoff_datetime_Hour          0\n",
       "remainder__tpep_pickup_datetime_Minute         0\n",
       "remainder__tpep_dropoff_datetime_Minute        0\n",
       "remainder__tpep_pickup_datetime_Second         0\n",
       "remainder__tpep_dropoff_datetime_Second        0\n",
       "dtype: int64"
      ]
     },
     "execution_count": 32,
     "metadata": {},
     "output_type": "execute_result"
    }
   ],
   "source": [
    "X_test_CT_df.isnull().sum()"
   ]
  },
  {
   "cell_type": "code",
   "execution_count": 33,
   "id": "8c3b0e4c",
   "metadata": {
    "execution": {
     "iopub.execute_input": "2023-11-30T11:08:17.627356Z",
     "iopub.status.busy": "2023-11-30T11:08:17.627004Z",
     "iopub.status.idle": "2023-11-30T11:08:17.751326Z",
     "shell.execute_reply": "2023-11-30T11:08:17.750594Z"
    },
    "papermill": {
     "duration": 0.140931,
     "end_time": "2023-11-30T11:08:17.752967",
     "exception": false,
     "start_time": "2023-11-30T11:08:17.612036",
     "status": "completed"
    },
    "tags": []
   },
   "outputs": [
    {
     "data": {
      "text/html": [
       "<div>\n",
       "<style scoped>\n",
       "    .dataframe tbody tr th:only-of-type {\n",
       "        vertical-align: middle;\n",
       "    }\n",
       "\n",
       "    .dataframe tbody tr th {\n",
       "        vertical-align: top;\n",
       "    }\n",
       "\n",
       "    .dataframe thead th {\n",
       "        text-align: right;\n",
       "    }\n",
       "</style>\n",
       "<table border=\"1\" class=\"dataframe\">\n",
       "  <thead>\n",
       "    <tr style=\"text-align: right;\">\n",
       "      <th></th>\n",
       "      <th>payType_OHE__tpep_pickup_datetime_Day_1</th>\n",
       "      <th>payType_OHE__tpep_pickup_datetime_Day_28</th>\n",
       "      <th>payType_OHE__tpep_pickup_datetime_Day_29</th>\n",
       "      <th>payType_OHE__tpep_pickup_datetime_Day_30</th>\n",
       "      <th>store_and_fwd_flag__DOLocationID</th>\n",
       "      <th>remainder_store_and_fwd_flag__tip_amount</th>\n",
       "      <th>remainder__VendorID</th>\n",
       "      <th>remainder__passenger_count</th>\n",
       "      <th>remainder__trip_distance</th>\n",
       "      <th>remainder__RatecodeID</th>\n",
       "      <th>...</th>\n",
       "      <th>remainder__tpep_dropoff_datetime_year</th>\n",
       "      <th>remainder__tpep_pickup_datetime_Month</th>\n",
       "      <th>remainder__tpep_dropoff_datetime_Month</th>\n",
       "      <th>remainder__tpep_dropoff_datetime_Day</th>\n",
       "      <th>remainder__tpep_pickup_datetime_Hour</th>\n",
       "      <th>remainder__tpep_dropoff_datetime_Hour</th>\n",
       "      <th>remainder__tpep_pickup_datetime_Minute</th>\n",
       "      <th>remainder__tpep_dropoff_datetime_Minute</th>\n",
       "      <th>remainder__tpep_pickup_datetime_Second</th>\n",
       "      <th>remainder__tpep_dropoff_datetime_Second</th>\n",
       "    </tr>\n",
       "  </thead>\n",
       "  <tbody>\n",
       "    <tr>\n",
       "      <th>0</th>\n",
       "      <td>-0.065496</td>\n",
       "      <td>-0.496717</td>\n",
       "      <td>1.171786</td>\n",
       "      <td>-0.776971</td>\n",
       "      <td>0.541706</td>\n",
       "      <td>0.996140</td>\n",
       "      <td>0.611121</td>\n",
       "      <td>-0.409442</td>\n",
       "      <td>0.005143</td>\n",
       "      <td>-0.080875</td>\n",
       "      <td>...</td>\n",
       "      <td>0.0</td>\n",
       "      <td>-0.065496</td>\n",
       "      <td>-0.088541</td>\n",
       "      <td>0.400175</td>\n",
       "      <td>1.365373</td>\n",
       "      <td>-2.536405</td>\n",
       "      <td>0.432353</td>\n",
       "      <td>-0.952124</td>\n",
       "      <td>0.430728</td>\n",
       "      <td>-1.704605</td>\n",
       "    </tr>\n",
       "    <tr>\n",
       "      <th>1</th>\n",
       "      <td>-0.065496</td>\n",
       "      <td>2.013221</td>\n",
       "      <td>-0.853398</td>\n",
       "      <td>-0.776971</td>\n",
       "      <td>1.223946</td>\n",
       "      <td>-1.284575</td>\n",
       "      <td>0.611121</td>\n",
       "      <td>-0.409442</td>\n",
       "      <td>-0.010709</td>\n",
       "      <td>-0.080875</td>\n",
       "      <td>...</td>\n",
       "      <td>0.0</td>\n",
       "      <td>-0.065496</td>\n",
       "      <td>-0.088541</td>\n",
       "      <td>-0.374329</td>\n",
       "      <td>0.672830</td>\n",
       "      <td>0.486488</td>\n",
       "      <td>-1.127473</td>\n",
       "      <td>1.414587</td>\n",
       "      <td>-0.318786</td>\n",
       "      <td>0.722398</td>\n",
       "    </tr>\n",
       "    <tr>\n",
       "      <th>2</th>\n",
       "      <td>-0.065496</td>\n",
       "      <td>-0.496717</td>\n",
       "      <td>-0.853398</td>\n",
       "      <td>1.287049</td>\n",
       "      <td>1.551946</td>\n",
       "      <td>-1.551757</td>\n",
       "      <td>0.611121</td>\n",
       "      <td>-0.409442</td>\n",
       "      <td>-0.011841</td>\n",
       "      <td>0.075801</td>\n",
       "      <td>...</td>\n",
       "      <td>0.0</td>\n",
       "      <td>-0.065496</td>\n",
       "      <td>-0.088541</td>\n",
       "      <td>0.400175</td>\n",
       "      <td>1.019102</td>\n",
       "      <td>0.990303</td>\n",
       "      <td>0.432353</td>\n",
       "      <td>0.144645</td>\n",
       "      <td>-0.837681</td>\n",
       "      <td>-1.531247</td>\n",
       "    </tr>\n",
       "    <tr>\n",
       "      <th>3</th>\n",
       "      <td>-0.065496</td>\n",
       "      <td>-0.496717</td>\n",
       "      <td>1.171786</td>\n",
       "      <td>-0.776971</td>\n",
       "      <td>0.436746</td>\n",
       "      <td>-1.238750</td>\n",
       "      <td>-1.629763</td>\n",
       "      <td>-0.409442</td>\n",
       "      <td>-0.011139</td>\n",
       "      <td>-0.080875</td>\n",
       "      <td>...</td>\n",
       "      <td>0.0</td>\n",
       "      <td>-0.065496</td>\n",
       "      <td>-0.088541</td>\n",
       "      <td>0.012923</td>\n",
       "      <td>0.845966</td>\n",
       "      <td>0.990303</td>\n",
       "      <td>-1.589644</td>\n",
       "      <td>-1.183022</td>\n",
       "      <td>-1.010646</td>\n",
       "      <td>1.704757</td>\n",
       "    </tr>\n",
       "    <tr>\n",
       "      <th>4</th>\n",
       "      <td>-0.065496</td>\n",
       "      <td>2.013221</td>\n",
       "      <td>-0.853398</td>\n",
       "      <td>-0.776971</td>\n",
       "      <td>-1.281975</td>\n",
       "      <td>-0.049747</td>\n",
       "      <td>-1.629763</td>\n",
       "      <td>-0.409442</td>\n",
       "      <td>-0.008195</td>\n",
       "      <td>-0.080875</td>\n",
       "      <td>...</td>\n",
       "      <td>0.0</td>\n",
       "      <td>-0.065496</td>\n",
       "      <td>-0.088541</td>\n",
       "      <td>-0.374329</td>\n",
       "      <td>0.326559</td>\n",
       "      <td>0.318549</td>\n",
       "      <td>-0.723074</td>\n",
       "      <td>0.664167</td>\n",
       "      <td>-1.702506</td>\n",
       "      <td>-1.184533</td>\n",
       "    </tr>\n",
       "    <tr>\n",
       "      <th>...</th>\n",
       "      <td>...</td>\n",
       "      <td>...</td>\n",
       "      <td>...</td>\n",
       "      <td>...</td>\n",
       "      <td>...</td>\n",
       "      <td>...</td>\n",
       "      <td>...</td>\n",
       "      <td>...</td>\n",
       "      <td>...</td>\n",
       "      <td>...</td>\n",
       "      <td>...</td>\n",
       "      <td>...</td>\n",
       "      <td>...</td>\n",
       "      <td>...</td>\n",
       "      <td>...</td>\n",
       "      <td>...</td>\n",
       "      <td>...</td>\n",
       "      <td>...</td>\n",
       "      <td>...</td>\n",
       "      <td>...</td>\n",
       "      <td>...</td>\n",
       "    </tr>\n",
       "    <tr>\n",
       "      <th>139995</th>\n",
       "      <td>-0.065496</td>\n",
       "      <td>-0.496717</td>\n",
       "      <td>-0.853398</td>\n",
       "      <td>1.287049</td>\n",
       "      <td>0.909066</td>\n",
       "      <td>-0.954100</td>\n",
       "      <td>0.611121</td>\n",
       "      <td>-0.409442</td>\n",
       "      <td>-0.009124</td>\n",
       "      <td>-0.080875</td>\n",
       "      <td>...</td>\n",
       "      <td>0.0</td>\n",
       "      <td>-0.065496</td>\n",
       "      <td>-0.088541</td>\n",
       "      <td>0.400175</td>\n",
       "      <td>-1.058527</td>\n",
       "      <td>-1.024959</td>\n",
       "      <td>0.432353</td>\n",
       "      <td>1.472312</td>\n",
       "      <td>1.583828</td>\n",
       "      <td>-1.126747</td>\n",
       "    </tr>\n",
       "    <tr>\n",
       "      <th>139996</th>\n",
       "      <td>-0.065496</td>\n",
       "      <td>-0.496717</td>\n",
       "      <td>-0.853398</td>\n",
       "      <td>1.287049</td>\n",
       "      <td>-1.203255</td>\n",
       "      <td>-0.903599</td>\n",
       "      <td>-1.629763</td>\n",
       "      <td>-0.409442</td>\n",
       "      <td>-0.008875</td>\n",
       "      <td>-0.080875</td>\n",
       "      <td>...</td>\n",
       "      <td>0.0</td>\n",
       "      <td>-0.065496</td>\n",
       "      <td>-0.088541</td>\n",
       "      <td>0.400175</td>\n",
       "      <td>-1.058527</td>\n",
       "      <td>-1.192897</td>\n",
       "      <td>0.721210</td>\n",
       "      <td>1.472312</td>\n",
       "      <td>-0.376441</td>\n",
       "      <td>0.202326</td>\n",
       "    </tr>\n",
       "    <tr>\n",
       "      <th>139997</th>\n",
       "      <td>-0.065496</td>\n",
       "      <td>-0.496717</td>\n",
       "      <td>1.171786</td>\n",
       "      <td>-0.776971</td>\n",
       "      <td>-0.061815</td>\n",
       "      <td>0.595788</td>\n",
       "      <td>-1.629763</td>\n",
       "      <td>-0.409442</td>\n",
       "      <td>-0.008422</td>\n",
       "      <td>-0.080875</td>\n",
       "      <td>...</td>\n",
       "      <td>0.0</td>\n",
       "      <td>-0.065496</td>\n",
       "      <td>-0.088541</td>\n",
       "      <td>0.012923</td>\n",
       "      <td>-0.192848</td>\n",
       "      <td>-0.017328</td>\n",
       "      <td>0.259039</td>\n",
       "      <td>-1.702544</td>\n",
       "      <td>-1.241266</td>\n",
       "      <td>-1.646819</td>\n",
       "    </tr>\n",
       "    <tr>\n",
       "      <th>139998</th>\n",
       "      <td>-0.065496</td>\n",
       "      <td>-0.496717</td>\n",
       "      <td>-0.853398</td>\n",
       "      <td>1.287049</td>\n",
       "      <td>1.223946</td>\n",
       "      <td>-1.399881</td>\n",
       "      <td>0.611121</td>\n",
       "      <td>-0.409442</td>\n",
       "      <td>-0.011139</td>\n",
       "      <td>-0.080875</td>\n",
       "      <td>...</td>\n",
       "      <td>0.0</td>\n",
       "      <td>-0.065496</td>\n",
       "      <td>-0.088541</td>\n",
       "      <td>0.400175</td>\n",
       "      <td>0.153423</td>\n",
       "      <td>0.318549</td>\n",
       "      <td>0.432353</td>\n",
       "      <td>0.779616</td>\n",
       "      <td>-1.644851</td>\n",
       "      <td>1.300256</td>\n",
       "    </tr>\n",
       "    <tr>\n",
       "      <th>139999</th>\n",
       "      <td>-0.065496</td>\n",
       "      <td>-0.496717</td>\n",
       "      <td>-0.853398</td>\n",
       "      <td>1.287049</td>\n",
       "      <td>-0.232375</td>\n",
       "      <td>-0.168590</td>\n",
       "      <td>0.611121</td>\n",
       "      <td>-0.409442</td>\n",
       "      <td>-0.007969</td>\n",
       "      <td>-0.080875</td>\n",
       "      <td>...</td>\n",
       "      <td>0.0</td>\n",
       "      <td>-0.065496</td>\n",
       "      <td>-0.088541</td>\n",
       "      <td>0.400175</td>\n",
       "      <td>1.365373</td>\n",
       "      <td>1.326180</td>\n",
       "      <td>-1.647415</td>\n",
       "      <td>1.299138</td>\n",
       "      <td>-0.088166</td>\n",
       "      <td>1.069113</td>\n",
       "    </tr>\n",
       "  </tbody>\n",
       "</table>\n",
       "<p>140000 rows × 27 columns</p>\n",
       "</div>"
      ],
      "text/plain": [
       "        payType_OHE__tpep_pickup_datetime_Day_1  \\\n",
       "0                                     -0.065496   \n",
       "1                                     -0.065496   \n",
       "2                                     -0.065496   \n",
       "3                                     -0.065496   \n",
       "4                                     -0.065496   \n",
       "...                                         ...   \n",
       "139995                                -0.065496   \n",
       "139996                                -0.065496   \n",
       "139997                                -0.065496   \n",
       "139998                                -0.065496   \n",
       "139999                                -0.065496   \n",
       "\n",
       "        payType_OHE__tpep_pickup_datetime_Day_28  \\\n",
       "0                                      -0.496717   \n",
       "1                                       2.013221   \n",
       "2                                      -0.496717   \n",
       "3                                      -0.496717   \n",
       "4                                       2.013221   \n",
       "...                                          ...   \n",
       "139995                                 -0.496717   \n",
       "139996                                 -0.496717   \n",
       "139997                                 -0.496717   \n",
       "139998                                 -0.496717   \n",
       "139999                                 -0.496717   \n",
       "\n",
       "        payType_OHE__tpep_pickup_datetime_Day_29  \\\n",
       "0                                       1.171786   \n",
       "1                                      -0.853398   \n",
       "2                                      -0.853398   \n",
       "3                                       1.171786   \n",
       "4                                      -0.853398   \n",
       "...                                          ...   \n",
       "139995                                 -0.853398   \n",
       "139996                                 -0.853398   \n",
       "139997                                  1.171786   \n",
       "139998                                 -0.853398   \n",
       "139999                                 -0.853398   \n",
       "\n",
       "        payType_OHE__tpep_pickup_datetime_Day_30  \\\n",
       "0                                      -0.776971   \n",
       "1                                      -0.776971   \n",
       "2                                       1.287049   \n",
       "3                                      -0.776971   \n",
       "4                                      -0.776971   \n",
       "...                                          ...   \n",
       "139995                                  1.287049   \n",
       "139996                                  1.287049   \n",
       "139997                                 -0.776971   \n",
       "139998                                  1.287049   \n",
       "139999                                  1.287049   \n",
       "\n",
       "        store_and_fwd_flag__DOLocationID  \\\n",
       "0                               0.541706   \n",
       "1                               1.223946   \n",
       "2                               1.551946   \n",
       "3                               0.436746   \n",
       "4                              -1.281975   \n",
       "...                                  ...   \n",
       "139995                          0.909066   \n",
       "139996                         -1.203255   \n",
       "139997                         -0.061815   \n",
       "139998                          1.223946   \n",
       "139999                         -0.232375   \n",
       "\n",
       "        remainder_store_and_fwd_flag__tip_amount  remainder__VendorID  \\\n",
       "0                                       0.996140             0.611121   \n",
       "1                                      -1.284575             0.611121   \n",
       "2                                      -1.551757             0.611121   \n",
       "3                                      -1.238750            -1.629763   \n",
       "4                                      -0.049747            -1.629763   \n",
       "...                                          ...                  ...   \n",
       "139995                                 -0.954100             0.611121   \n",
       "139996                                 -0.903599            -1.629763   \n",
       "139997                                  0.595788            -1.629763   \n",
       "139998                                 -1.399881             0.611121   \n",
       "139999                                 -0.168590             0.611121   \n",
       "\n",
       "        remainder__passenger_count  remainder__trip_distance  \\\n",
       "0                        -0.409442                  0.005143   \n",
       "1                        -0.409442                 -0.010709   \n",
       "2                        -0.409442                 -0.011841   \n",
       "3                        -0.409442                 -0.011139   \n",
       "4                        -0.409442                 -0.008195   \n",
       "...                            ...                       ...   \n",
       "139995                   -0.409442                 -0.009124   \n",
       "139996                   -0.409442                 -0.008875   \n",
       "139997                   -0.409442                 -0.008422   \n",
       "139998                   -0.409442                 -0.011139   \n",
       "139999                   -0.409442                 -0.007969   \n",
       "\n",
       "        remainder__RatecodeID  ...  remainder__tpep_dropoff_datetime_year  \\\n",
       "0                   -0.080875  ...                                    0.0   \n",
       "1                   -0.080875  ...                                    0.0   \n",
       "2                    0.075801  ...                                    0.0   \n",
       "3                   -0.080875  ...                                    0.0   \n",
       "4                   -0.080875  ...                                    0.0   \n",
       "...                       ...  ...                                    ...   \n",
       "139995              -0.080875  ...                                    0.0   \n",
       "139996              -0.080875  ...                                    0.0   \n",
       "139997              -0.080875  ...                                    0.0   \n",
       "139998              -0.080875  ...                                    0.0   \n",
       "139999              -0.080875  ...                                    0.0   \n",
       "\n",
       "        remainder__tpep_pickup_datetime_Month  \\\n",
       "0                                   -0.065496   \n",
       "1                                   -0.065496   \n",
       "2                                   -0.065496   \n",
       "3                                   -0.065496   \n",
       "4                                   -0.065496   \n",
       "...                                       ...   \n",
       "139995                              -0.065496   \n",
       "139996                              -0.065496   \n",
       "139997                              -0.065496   \n",
       "139998                              -0.065496   \n",
       "139999                              -0.065496   \n",
       "\n",
       "        remainder__tpep_dropoff_datetime_Month  \\\n",
       "0                                    -0.088541   \n",
       "1                                    -0.088541   \n",
       "2                                    -0.088541   \n",
       "3                                    -0.088541   \n",
       "4                                    -0.088541   \n",
       "...                                        ...   \n",
       "139995                               -0.088541   \n",
       "139996                               -0.088541   \n",
       "139997                               -0.088541   \n",
       "139998                               -0.088541   \n",
       "139999                               -0.088541   \n",
       "\n",
       "        remainder__tpep_dropoff_datetime_Day  \\\n",
       "0                                   0.400175   \n",
       "1                                  -0.374329   \n",
       "2                                   0.400175   \n",
       "3                                   0.012923   \n",
       "4                                  -0.374329   \n",
       "...                                      ...   \n",
       "139995                              0.400175   \n",
       "139996                              0.400175   \n",
       "139997                              0.012923   \n",
       "139998                              0.400175   \n",
       "139999                              0.400175   \n",
       "\n",
       "        remainder__tpep_pickup_datetime_Hour  \\\n",
       "0                                   1.365373   \n",
       "1                                   0.672830   \n",
       "2                                   1.019102   \n",
       "3                                   0.845966   \n",
       "4                                   0.326559   \n",
       "...                                      ...   \n",
       "139995                             -1.058527   \n",
       "139996                             -1.058527   \n",
       "139997                             -0.192848   \n",
       "139998                              0.153423   \n",
       "139999                              1.365373   \n",
       "\n",
       "        remainder__tpep_dropoff_datetime_Hour  \\\n",
       "0                                   -2.536405   \n",
       "1                                    0.486488   \n",
       "2                                    0.990303   \n",
       "3                                    0.990303   \n",
       "4                                    0.318549   \n",
       "...                                       ...   \n",
       "139995                              -1.024959   \n",
       "139996                              -1.192897   \n",
       "139997                              -0.017328   \n",
       "139998                               0.318549   \n",
       "139999                               1.326180   \n",
       "\n",
       "        remainder__tpep_pickup_datetime_Minute  \\\n",
       "0                                     0.432353   \n",
       "1                                    -1.127473   \n",
       "2                                     0.432353   \n",
       "3                                    -1.589644   \n",
       "4                                    -0.723074   \n",
       "...                                        ...   \n",
       "139995                                0.432353   \n",
       "139996                                0.721210   \n",
       "139997                                0.259039   \n",
       "139998                                0.432353   \n",
       "139999                               -1.647415   \n",
       "\n",
       "        remainder__tpep_dropoff_datetime_Minute  \\\n",
       "0                                     -0.952124   \n",
       "1                                      1.414587   \n",
       "2                                      0.144645   \n",
       "3                                     -1.183022   \n",
       "4                                      0.664167   \n",
       "...                                         ...   \n",
       "139995                                 1.472312   \n",
       "139996                                 1.472312   \n",
       "139997                                -1.702544   \n",
       "139998                                 0.779616   \n",
       "139999                                 1.299138   \n",
       "\n",
       "        remainder__tpep_pickup_datetime_Second  \\\n",
       "0                                     0.430728   \n",
       "1                                    -0.318786   \n",
       "2                                    -0.837681   \n",
       "3                                    -1.010646   \n",
       "4                                    -1.702506   \n",
       "...                                        ...   \n",
       "139995                                1.583828   \n",
       "139996                               -0.376441   \n",
       "139997                               -1.241266   \n",
       "139998                               -1.644851   \n",
       "139999                               -0.088166   \n",
       "\n",
       "        remainder__tpep_dropoff_datetime_Second  \n",
       "0                                     -1.704605  \n",
       "1                                      0.722398  \n",
       "2                                     -1.531247  \n",
       "3                                      1.704757  \n",
       "4                                     -1.184533  \n",
       "...                                         ...  \n",
       "139995                                -1.126747  \n",
       "139996                                 0.202326  \n",
       "139997                                -1.646819  \n",
       "139998                                 1.300256  \n",
       "139999                                 1.069113  \n",
       "\n",
       "[140000 rows x 27 columns]"
      ]
     },
     "execution_count": 33,
     "metadata": {},
     "output_type": "execute_result"
    }
   ],
   "source": [
    "p2=pipe.fit_transform(X_test_CT_df)\n",
    "features = pipe.get_feature_names_out()\n",
    "\n",
    "X_test_CT_df = pd.DataFrame(p1,columns = features)\n",
    "X_train_CT_df"
   ]
  },
  {
   "cell_type": "code",
   "execution_count": 34,
   "id": "0fb1f820",
   "metadata": {
    "execution": {
     "iopub.execute_input": "2023-11-30T11:08:17.784167Z",
     "iopub.status.busy": "2023-11-30T11:08:17.783629Z",
     "iopub.status.idle": "2023-11-30T11:08:17.790774Z",
     "shell.execute_reply": "2023-11-30T11:08:17.789972Z"
    },
    "papermill": {
     "duration": 0.025331,
     "end_time": "2023-11-30T11:08:17.792549",
     "exception": false,
     "start_time": "2023-11-30T11:08:17.767218",
     "status": "completed"
    },
    "tags": []
   },
   "outputs": [
    {
     "data": {
      "text/plain": [
       "143961    40.95\n",
       "170292    16.40\n",
       "161029   -74.00\n",
       "84006     10.80\n",
       "95628     24.85\n",
       "          ...  \n",
       "119879    14.64\n",
       "103694    17.40\n",
       "131932    23.50\n",
       "146867    13.70\n",
       "121958    23.88\n",
       "Name: total_amount, Length: 140000, dtype: float64"
      ]
     },
     "execution_count": 34,
     "metadata": {},
     "output_type": "execute_result"
    }
   ],
   "source": [
    "y_train"
   ]
  },
  {
   "cell_type": "code",
   "execution_count": 35,
   "id": "29cdbea7",
   "metadata": {
    "execution": {
     "iopub.execute_input": "2023-11-30T11:08:17.822351Z",
     "iopub.status.busy": "2023-11-30T11:08:17.822011Z",
     "iopub.status.idle": "2023-11-30T11:53:14.387783Z",
     "shell.execute_reply": "2023-11-30T11:53:14.385881Z"
    },
    "papermill": {
     "duration": 2696.583804,
     "end_time": "2023-11-30T11:53:14.390489",
     "exception": false,
     "start_time": "2023-11-30T11:08:17.806685",
     "status": "completed"
    },
    "tags": []
   },
   "outputs": [],
   "source": [
    "from sklearn.feature_selection import RFE\n",
    "from sklearn.ensemble import RandomForestRegressor\n",
    "\n",
    "model = RandomForestRegressor()\n",
    "rfe = RFE(model, n_features_to_select=10)\n",
    "X_rfe = rfe.fit_transform(X_train_CT_df, y_train)\n"
   ]
  },
  {
   "cell_type": "code",
   "execution_count": 36,
   "id": "228f89fa",
   "metadata": {
    "execution": {
     "iopub.execute_input": "2023-11-30T11:53:14.420968Z",
     "iopub.status.busy": "2023-11-30T11:53:14.420603Z",
     "iopub.status.idle": "2023-11-30T11:53:14.429214Z",
     "shell.execute_reply": "2023-11-30T11:53:14.427735Z"
    },
    "papermill": {
     "duration": 0.027278,
     "end_time": "2023-11-30T11:53:14.431658",
     "exception": false,
     "start_time": "2023-11-30T11:53:14.404380",
     "status": "completed"
    },
    "tags": []
   },
   "outputs": [
    {
     "data": {
      "text/plain": [
       "array([[ 0.54170556,  0.99613953,  0.00514299, ..., -2.53640529,\n",
       "        -0.95212355, -1.70460472],\n",
       "       [ 1.22394564, -1.28457548, -0.01070909, ...,  0.48648787,\n",
       "         1.41458705,  0.72239826],\n",
       "       [ 1.55194568, -1.55175669, -0.01184138, ...,  0.9903034 ,\n",
       "         0.14464478, -1.53124736],\n",
       "       ...,\n",
       "       [-0.06181451,  0.59578836, -0.00842186, ..., -0.01732766,\n",
       "        -1.70254399, -1.64681893],\n",
       "       [ 1.22394564, -1.39988058, -0.01113936, ...,  0.31854936,\n",
       "         0.77961591,  1.30025612],\n",
       "       [-0.23237453, -0.1685904 , -0.00796894, ...,  1.32618042,\n",
       "         1.29913775,  1.06911298]])"
      ]
     },
     "execution_count": 36,
     "metadata": {},
     "output_type": "execute_result"
    }
   ],
   "source": [
    "X_rfe"
   ]
  },
  {
   "cell_type": "code",
   "execution_count": 37,
   "id": "142232ac",
   "metadata": {
    "execution": {
     "iopub.execute_input": "2023-11-30T11:53:14.462349Z",
     "iopub.status.busy": "2023-11-30T11:53:14.461966Z",
     "iopub.status.idle": "2023-11-30T11:53:14.469125Z",
     "shell.execute_reply": "2023-11-30T11:53:14.467323Z"
    },
    "papermill": {
     "duration": 0.025548,
     "end_time": "2023-11-30T11:53:14.471797",
     "exception": false,
     "start_time": "2023-11-30T11:53:14.446249",
     "status": "completed"
    },
    "tags": []
   },
   "outputs": [
    {
     "name": "stdout",
     "output_type": "stream",
     "text": [
      "len Selected Feature Names: 10\n"
     ]
    }
   ],
   "source": [
    "selected_feature_indices = rfe.get_support()\n",
    "\n",
    "# Get the column names of the selected features\n",
    "selected_feature_names = X_train_CT_df.columns[selected_feature_indices]\n",
    "\n",
    "# Print or use the selected feature names\n",
    "print(\"len Selected Feature Names:\",len(selected_feature_names))"
   ]
  },
  {
   "cell_type": "code",
   "execution_count": 38,
   "id": "4ed8e1c4",
   "metadata": {
    "execution": {
     "iopub.execute_input": "2023-11-30T11:53:14.502906Z",
     "iopub.status.busy": "2023-11-30T11:53:14.502574Z",
     "iopub.status.idle": "2023-11-30T11:53:14.508854Z",
     "shell.execute_reply": "2023-11-30T11:53:14.506515Z"
    },
    "papermill": {
     "duration": 0.02501,
     "end_time": "2023-11-30T11:53:14.511624",
     "exception": false,
     "start_time": "2023-11-30T11:53:14.486614",
     "status": "completed"
    },
    "tags": []
   },
   "outputs": [],
   "source": [
    "X_rfe=pd.DataFrame(X_rfe,columns=selected_feature_names)"
   ]
  },
  {
   "cell_type": "code",
   "execution_count": 39,
   "id": "2356362d",
   "metadata": {
    "execution": {
     "iopub.execute_input": "2023-11-30T11:53:14.542359Z",
     "iopub.status.busy": "2023-11-30T11:53:14.541949Z",
     "iopub.status.idle": "2023-11-30T11:53:14.551234Z",
     "shell.execute_reply": "2023-11-30T11:53:14.549564Z"
    },
    "papermill": {
     "duration": 0.027655,
     "end_time": "2023-11-30T11:53:14.553744",
     "exception": false,
     "start_time": "2023-11-30T11:53:14.526089",
     "status": "completed"
    },
    "tags": []
   },
   "outputs": [
    {
     "data": {
      "text/plain": [
       "143961    40.95\n",
       "170292    16.40\n",
       "161029   -74.00\n",
       "84006     10.80\n",
       "95628     24.85\n",
       "          ...  \n",
       "119879    14.64\n",
       "103694    17.40\n",
       "131932    23.50\n",
       "146867    13.70\n",
       "121958    23.88\n",
       "Name: total_amount, Length: 140000, dtype: float64"
      ]
     },
     "execution_count": 39,
     "metadata": {},
     "output_type": "execute_result"
    }
   ],
   "source": [
    "y_train"
   ]
  },
  {
   "cell_type": "code",
   "execution_count": 40,
   "id": "ab809eb6",
   "metadata": {
    "execution": {
     "iopub.execute_input": "2023-11-30T11:53:14.586167Z",
     "iopub.status.busy": "2023-11-30T11:53:14.585782Z",
     "iopub.status.idle": "2023-11-30T11:53:14.627107Z",
     "shell.execute_reply": "2023-11-30T11:53:14.625744Z"
    },
    "papermill": {
     "duration": 0.0605,
     "end_time": "2023-11-30T11:53:14.629213",
     "exception": false,
     "start_time": "2023-11-30T11:53:14.568713",
     "status": "completed"
    },
    "tags": []
   },
   "outputs": [
    {
     "data": {
      "text/html": [
       "<div>\n",
       "<style scoped>\n",
       "    .dataframe tbody tr th:only-of-type {\n",
       "        vertical-align: middle;\n",
       "    }\n",
       "\n",
       "    .dataframe tbody tr th {\n",
       "        vertical-align: top;\n",
       "    }\n",
       "\n",
       "    .dataframe thead th {\n",
       "        text-align: right;\n",
       "    }\n",
       "</style>\n",
       "<table border=\"1\" class=\"dataframe\">\n",
       "  <thead>\n",
       "    <tr style=\"text-align: right;\">\n",
       "      <th></th>\n",
       "      <th>store_and_fwd_flag__DOLocationID</th>\n",
       "      <th>remainder_store_and_fwd_flag__tip_amount</th>\n",
       "      <th>remainder__trip_distance</th>\n",
       "      <th>remainder__RatecodeID</th>\n",
       "      <th>remainder__PULocationID</th>\n",
       "      <th>remainder__tolls_amount</th>\n",
       "      <th>remainder__improvement_surcharge</th>\n",
       "      <th>remainder__tpep_dropoff_datetime_Hour</th>\n",
       "      <th>remainder__tpep_dropoff_datetime_Minute</th>\n",
       "      <th>remainder__tpep_dropoff_datetime_Second</th>\n",
       "    </tr>\n",
       "  </thead>\n",
       "  <tbody>\n",
       "    <tr>\n",
       "      <th>40665</th>\n",
       "      <td>-1.386935</td>\n",
       "      <td>-0.811206</td>\n",
       "      <td>-0.011819</td>\n",
       "      <td>-8.087531e-02</td>\n",
       "      <td>0.344194</td>\n",
       "      <td>-0.279159</td>\n",
       "      <td>0.102158</td>\n",
       "      <td>0.486488</td>\n",
       "      <td>0.952790</td>\n",
       "      <td>0.317898</td>\n",
       "    </tr>\n",
       "    <tr>\n",
       "      <th>48520</th>\n",
       "      <td>-0.953975</td>\n",
       "      <td>-1.144477</td>\n",
       "      <td>-0.007969</td>\n",
       "      <td>-8.087531e-02</td>\n",
       "      <td>-0.391187</td>\n",
       "      <td>-0.279159</td>\n",
       "      <td>0.102158</td>\n",
       "      <td>0.654426</td>\n",
       "      <td>0.606442</td>\n",
       "      <td>0.433469</td>\n",
       "    </tr>\n",
       "    <tr>\n",
       "      <th>138403</th>\n",
       "      <td>-1.714935</td>\n",
       "      <td>0.910502</td>\n",
       "      <td>-0.007290</td>\n",
       "      <td>-8.087531e-02</td>\n",
       "      <td>1.276552</td>\n",
       "      <td>-0.279159</td>\n",
       "      <td>0.102158</td>\n",
       "      <td>-0.017328</td>\n",
       "      <td>-1.009848</td>\n",
       "      <td>0.953541</td>\n",
       "    </tr>\n",
       "    <tr>\n",
       "      <th>130079</th>\n",
       "      <td>-0.009335</td>\n",
       "      <td>1.176718</td>\n",
       "      <td>-0.006316</td>\n",
       "      <td>-8.087531e-02</td>\n",
       "      <td>0.633094</td>\n",
       "      <td>-0.279159</td>\n",
       "      <td>0.102158</td>\n",
       "      <td>-1.024959</td>\n",
       "      <td>0.664167</td>\n",
       "      <td>-1.531247</td>\n",
       "    </tr>\n",
       "    <tr>\n",
       "      <th>50146</th>\n",
       "      <td>-0.625975</td>\n",
       "      <td>-1.566256</td>\n",
       "      <td>-0.011139</td>\n",
       "      <td>-8.087531e-02</td>\n",
       "      <td>-1.152831</td>\n",
       "      <td>-0.279159</td>\n",
       "      <td>0.102158</td>\n",
       "      <td>-0.017328</td>\n",
       "      <td>1.703210</td>\n",
       "      <td>-0.433317</td>\n",
       "    </tr>\n",
       "    <tr>\n",
       "      <th>...</th>\n",
       "      <td>...</td>\n",
       "      <td>...</td>\n",
       "      <td>...</td>\n",
       "      <td>...</td>\n",
       "      <td>...</td>\n",
       "      <td>...</td>\n",
       "      <td>...</td>\n",
       "      <td>...</td>\n",
       "      <td>...</td>\n",
       "      <td>...</td>\n",
       "    </tr>\n",
       "    <tr>\n",
       "      <th>3568</th>\n",
       "      <td>1.368266</td>\n",
       "      <td>0.272217</td>\n",
       "      <td>-0.006089</td>\n",
       "      <td>-5.461910e-15</td>\n",
       "      <td>-0.430582</td>\n",
       "      <td>-0.279159</td>\n",
       "      <td>0.102158</td>\n",
       "      <td>0.150611</td>\n",
       "      <td>-0.028529</td>\n",
       "      <td>-0.317746</td>\n",
       "    </tr>\n",
       "    <tr>\n",
       "      <th>103385</th>\n",
       "      <td>1.105866</td>\n",
       "      <td>-0.210679</td>\n",
       "      <td>-0.009328</td>\n",
       "      <td>-8.087531e-02</td>\n",
       "      <td>1.434134</td>\n",
       "      <td>-0.279159</td>\n",
       "      <td>0.102158</td>\n",
       "      <td>0.654426</td>\n",
       "      <td>-0.028529</td>\n",
       "      <td>-1.242318</td>\n",
       "    </tr>\n",
       "    <tr>\n",
       "      <th>136874</th>\n",
       "      <td>1.328906</td>\n",
       "      <td>1.214106</td>\n",
       "      <td>-0.010166</td>\n",
       "      <td>-8.087531e-02</td>\n",
       "      <td>-1.179095</td>\n",
       "      <td>-0.279159</td>\n",
       "      <td>0.102158</td>\n",
       "      <td>0.486488</td>\n",
       "      <td>-0.663500</td>\n",
       "      <td>0.433469</td>\n",
       "    </tr>\n",
       "    <tr>\n",
       "      <th>124720</th>\n",
       "      <td>0.292426</td>\n",
       "      <td>-1.446250</td>\n",
       "      <td>-0.008875</td>\n",
       "      <td>-8.087531e-02</td>\n",
       "      <td>0.725016</td>\n",
       "      <td>-0.279159</td>\n",
       "      <td>0.102158</td>\n",
       "      <td>0.654426</td>\n",
       "      <td>0.721891</td>\n",
       "      <td>0.375684</td>\n",
       "    </tr>\n",
       "    <tr>\n",
       "      <th>52045</th>\n",
       "      <td>-1.662455</td>\n",
       "      <td>0.984362</td>\n",
       "      <td>-0.007290</td>\n",
       "      <td>-8.087531e-02</td>\n",
       "      <td>-1.546786</td>\n",
       "      <td>-0.279159</td>\n",
       "      <td>0.102158</td>\n",
       "      <td>0.486488</td>\n",
       "      <td>-0.605776</td>\n",
       "      <td>-0.780032</td>\n",
       "    </tr>\n",
       "  </tbody>\n",
       "</table>\n",
       "<p>28000 rows × 10 columns</p>\n",
       "</div>"
      ],
      "text/plain": [
       "        store_and_fwd_flag__DOLocationID  \\\n",
       "40665                          -1.386935   \n",
       "48520                          -0.953975   \n",
       "138403                         -1.714935   \n",
       "130079                         -0.009335   \n",
       "50146                          -0.625975   \n",
       "...                                  ...   \n",
       "3568                            1.368266   \n",
       "103385                          1.105866   \n",
       "136874                          1.328906   \n",
       "124720                          0.292426   \n",
       "52045                          -1.662455   \n",
       "\n",
       "        remainder_store_and_fwd_flag__tip_amount  remainder__trip_distance  \\\n",
       "40665                                  -0.811206                 -0.011819   \n",
       "48520                                  -1.144477                 -0.007969   \n",
       "138403                                  0.910502                 -0.007290   \n",
       "130079                                  1.176718                 -0.006316   \n",
       "50146                                  -1.566256                 -0.011139   \n",
       "...                                          ...                       ...   \n",
       "3568                                    0.272217                 -0.006089   \n",
       "103385                                 -0.210679                 -0.009328   \n",
       "136874                                  1.214106                 -0.010166   \n",
       "124720                                 -1.446250                 -0.008875   \n",
       "52045                                   0.984362                 -0.007290   \n",
       "\n",
       "        remainder__RatecodeID  remainder__PULocationID  \\\n",
       "40665           -8.087531e-02                 0.344194   \n",
       "48520           -8.087531e-02                -0.391187   \n",
       "138403          -8.087531e-02                 1.276552   \n",
       "130079          -8.087531e-02                 0.633094   \n",
       "50146           -8.087531e-02                -1.152831   \n",
       "...                       ...                      ...   \n",
       "3568            -5.461910e-15                -0.430582   \n",
       "103385          -8.087531e-02                 1.434134   \n",
       "136874          -8.087531e-02                -1.179095   \n",
       "124720          -8.087531e-02                 0.725016   \n",
       "52045           -8.087531e-02                -1.546786   \n",
       "\n",
       "        remainder__tolls_amount  remainder__improvement_surcharge  \\\n",
       "40665                 -0.279159                          0.102158   \n",
       "48520                 -0.279159                          0.102158   \n",
       "138403                -0.279159                          0.102158   \n",
       "130079                -0.279159                          0.102158   \n",
       "50146                 -0.279159                          0.102158   \n",
       "...                         ...                               ...   \n",
       "3568                  -0.279159                          0.102158   \n",
       "103385                -0.279159                          0.102158   \n",
       "136874                -0.279159                          0.102158   \n",
       "124720                -0.279159                          0.102158   \n",
       "52045                 -0.279159                          0.102158   \n",
       "\n",
       "        remainder__tpep_dropoff_datetime_Hour  \\\n",
       "40665                                0.486488   \n",
       "48520                                0.654426   \n",
       "138403                              -0.017328   \n",
       "130079                              -1.024959   \n",
       "50146                               -0.017328   \n",
       "...                                       ...   \n",
       "3568                                 0.150611   \n",
       "103385                               0.654426   \n",
       "136874                               0.486488   \n",
       "124720                               0.654426   \n",
       "52045                                0.486488   \n",
       "\n",
       "        remainder__tpep_dropoff_datetime_Minute  \\\n",
       "40665                                  0.952790   \n",
       "48520                                  0.606442   \n",
       "138403                                -1.009848   \n",
       "130079                                 0.664167   \n",
       "50146                                  1.703210   \n",
       "...                                         ...   \n",
       "3568                                  -0.028529   \n",
       "103385                                -0.028529   \n",
       "136874                                -0.663500   \n",
       "124720                                 0.721891   \n",
       "52045                                 -0.605776   \n",
       "\n",
       "        remainder__tpep_dropoff_datetime_Second  \n",
       "40665                                  0.317898  \n",
       "48520                                  0.433469  \n",
       "138403                                 0.953541  \n",
       "130079                                -1.531247  \n",
       "50146                                 -0.433317  \n",
       "...                                         ...  \n",
       "3568                                  -0.317746  \n",
       "103385                                -1.242318  \n",
       "136874                                 0.433469  \n",
       "124720                                 0.375684  \n",
       "52045                                 -0.780032  \n",
       "\n",
       "[28000 rows x 10 columns]"
      ]
     },
     "execution_count": 40,
     "metadata": {},
     "output_type": "execute_result"
    }
   ],
   "source": [
    "X_train_ref, X_test_ref, y_train, y_test = train_test_split(X_rfe, y_train, test_size=0.2, random_state=42)\n",
    "X_test_ref"
   ]
  },
  {
   "cell_type": "code",
   "execution_count": 41,
   "id": "9b39a006",
   "metadata": {
    "execution": {
     "iopub.execute_input": "2023-11-30T11:53:14.663682Z",
     "iopub.status.busy": "2023-11-30T11:53:14.663307Z",
     "iopub.status.idle": "2023-11-30T11:53:14.672700Z",
     "shell.execute_reply": "2023-11-30T11:53:14.671104Z"
    },
    "papermill": {
     "duration": 0.030541,
     "end_time": "2023-11-30T11:53:14.675231",
     "exception": false,
     "start_time": "2023-11-30T11:53:14.644690",
     "status": "completed"
    },
    "tags": []
   },
   "outputs": [
    {
     "data": {
      "text/plain": [
       "128252    12.90\n",
       "79185     22.85\n",
       "1435      24.00\n",
       "67507     24.36\n",
       "34236     14.00\n",
       "          ...  \n",
       "153598    29.94\n",
       "32823     24.00\n",
       "165696    25.68\n",
       "34593     16.50\n",
       "20076     37.30\n",
       "Name: total_amount, Length: 28000, dtype: float64"
      ]
     },
     "execution_count": 41,
     "metadata": {},
     "output_type": "execute_result"
    }
   ],
   "source": [
    "y_test"
   ]
  },
  {
   "cell_type": "code",
   "execution_count": 42,
   "id": "4fec5461",
   "metadata": {
    "execution": {
     "iopub.execute_input": "2023-11-30T11:53:14.710378Z",
     "iopub.status.busy": "2023-11-30T11:53:14.709911Z",
     "iopub.status.idle": "2023-11-30T11:53:15.045317Z",
     "shell.execute_reply": "2023-11-30T11:53:15.044057Z"
    },
    "papermill": {
     "duration": 0.35492,
     "end_time": "2023-11-30T11:53:15.046803",
     "exception": true,
     "start_time": "2023-11-30T11:53:14.691883",
     "status": "failed"
    },
    "tags": []
   },
   "outputs": [
    {
     "ename": "ModuleNotFoundError",
     "evalue": "No module named 'cupy'",
     "output_type": "error",
     "traceback": [
      "\u001b[0;31m---------------------------------------------------------------------------\u001b[0m",
      "\u001b[0;31mModuleNotFoundError\u001b[0m                       Traceback (most recent call last)",
      "Cell \u001b[0;32mIn[42], line 5\u001b[0m\n\u001b[1;32m      1\u001b[0m \u001b[38;5;66;03m# Install RAPIDS cuML\u001b[39;00m\n\u001b[1;32m      2\u001b[0m \n\u001b[1;32m      3\u001b[0m \n\u001b[1;32m      4\u001b[0m \u001b[38;5;66;03m# Import necessary libraries\u001b[39;00m\n\u001b[0;32m----> 5\u001b[0m \u001b[38;5;28;01mimport\u001b[39;00m \u001b[38;5;21;01mcupy\u001b[39;00m \u001b[38;5;28;01mas\u001b[39;00m \u001b[38;5;21;01mcp\u001b[39;00m\n\u001b[1;32m      6\u001b[0m \u001b[38;5;28;01mfrom\u001b[39;00m \u001b[38;5;21;01mcuml\u001b[39;00m\u001b[38;5;21;01m.\u001b[39;00m\u001b[38;5;21;01msvm\u001b[39;00m \u001b[38;5;28;01mimport\u001b[39;00m SVR \u001b[38;5;28;01mas\u001b[39;00m cuSVR\n\u001b[1;32m      7\u001b[0m \u001b[38;5;28;01mfrom\u001b[39;00m \u001b[38;5;21;01mcuml\u001b[39;00m\u001b[38;5;21;01m.\u001b[39;00m\u001b[38;5;21;01mmodel_selection\u001b[39;00m \u001b[38;5;28;01mimport\u001b[39;00m GridSearchCV\n",
      "\u001b[0;31mModuleNotFoundError\u001b[0m: No module named 'cupy'"
     ]
    }
   ],
   "source": [
    "# Install RAPIDS cuML\n",
    "\n",
    "\n",
    "# Import necessary libraries\n",
    "import cupy as cp\n",
    "from cuml.svm import SVR as cuSVR\n",
    "from cuml.model_selection import GridSearchCV\n",
    "from cuml.metrics import mean_squared_error\n",
    "\n",
    "# Assuming X_train_CT_df and y_train are defined\n",
    "param_grid = {\n",
    "    'kernel': ['linear', 'rbf'],\n",
    "    'C': [0.1, 1, 10],\n",
    "    'epsilon': [0.1, 0.01, 0.001]\n",
    "}\n",
    "\n",
    "# Convert data to CuPy arrays\n",
    "X_train_cu = cp.array(X_train_CT_df)\n",
    "y_train_cu = cp.array(y_train)\n",
    "\n",
    "# Create cuML SVR model\n",
    "svr = cuSVR()\n",
    "grid_search = GridSearchCV(svr, param_grid=param_grid, cv=4)\n",
    "grid_search.fit(X_train_cu, y_train_cu)\n",
    "\n",
    "# Get the best estimator from the grid search\n",
    "best_svr = grid_search.best_estimator_\n",
    "\n",
    "# Make predictions on the training set\n",
    "y_pred_train_cu = best_svr.predict(X_train_cu)\n",
    "\n",
    "# Calculate mean squared error on the training set\n",
    "mse_train_cu = mean_squared_error(y_train_cu, y_pred_train_cu)\n",
    "print(\"Mean Squared Error on the training set (GPU):\", mse_train_cu)\n"
   ]
  },
  {
   "cell_type": "code",
   "execution_count": null,
   "id": "6c7bba0f",
   "metadata": {
    "papermill": {
     "duration": null,
     "end_time": null,
     "exception": null,
     "start_time": null,
     "status": "pending"
    },
    "tags": []
   },
   "outputs": [],
   "source": [
    "# Import necessary libraries\n",
    "import cupy as cp\n",
    "from cuml.svm import SVR as cuSVR\n",
    "from cuml.model_selection import GridSearchCV\n",
    "from cuml.metrics import mean_squared_error\n",
    "\n",
    "# Assuming X_train_CT_df and y_train are defined\n",
    "param_grid = {\n",
    "    'kernel': ['linear', 'rbf'],\n",
    "    \n",
    "}\n",
    "\n",
    "# Convert data to CuPy arrays\n",
    "X_train_cu = cp.array(X_train_CT_df)\n",
    "y_train_cu = cp.array(y_train)\n",
    "\n",
    "# Create cuML SVR model\n",
    "svr = cuSVR()\n",
    "grid_search = GridSearchCV(svr, param_grid=param_grid, cv=4)\n",
    "grid_search.fit(X_train_cu, y_train_cu)\n",
    "\n",
    "# Get the best estimator from the grid search\n",
    "best_svr = grid_search.best_estimator_\n",
    "\n",
    "\n",
    "\n",
    "\n"
   ]
  },
  {
   "cell_type": "code",
   "execution_count": null,
   "id": "c92c242d",
   "metadata": {
    "papermill": {
     "duration": null,
     "end_time": null,
     "exception": null,
     "start_time": null,
     "status": "pending"
    },
    "tags": []
   },
   "outputs": [],
   "source": [
    "# Make predictions on the training set\n",
    "y_pred_train_cu = svr.predict(X_train_cu)\n",
    "\n",
    "# Calculate mean squared error on the training set\n",
    "mse_train_cu = mean_squared_error(y_train_cu, y_pred_train_cu)\n",
    "print(\"Mean Squared Error on the training set (GPU):\", mse_train_cu)"
   ]
  },
  {
   "cell_type": "code",
   "execution_count": null,
   "id": "60248be8",
   "metadata": {
    "papermill": {
     "duration": null,
     "end_time": null,
     "exception": null,
     "start_time": null,
     "status": "pending"
    },
    "tags": []
   },
   "outputs": [],
   "source": [
    "print('Done')"
   ]
  },
  {
   "cell_type": "code",
   "execution_count": null,
   "id": "e63b4aa3",
   "metadata": {
    "papermill": {
     "duration": null,
     "end_time": null,
     "exception": null,
     "start_time": null,
     "status": "pending"
    },
    "tags": []
   },
   "outputs": [],
   "source": [
    "from sklearn.tree import DecisionTreeClassifier\n",
    "dtc = DecisionTreeClassifier()\n",
    "dtc.fit(X_train_CT_df, y_train)\n",
    "dtc"
   ]
  },
  {
   "cell_type": "markdown",
   "id": "075f8642",
   "metadata": {
    "papermill": {
     "duration": null,
     "end_time": null,
     "exception": null,
     "start_time": null,
     "status": "pending"
    },
    "tags": []
   },
   "source": [
    "Bagging"
   ]
  },
  {
   "cell_type": "code",
   "execution_count": null,
   "id": "fc1d1cbd",
   "metadata": {
    "papermill": {
     "duration": null,
     "end_time": null,
     "exception": null,
     "start_time": null,
     "status": "pending"
    },
    "tags": []
   },
   "outputs": [],
   "source": [
    "from sklearn.ensemble import BaggingRegressor\n",
    "from sklearn.tree import DecisionTreeRegressor\n",
    "from sklearn.model_selection import GridSearchCV\n",
    "from sklearn.metrics import mean_squared_error\n",
    "\n",
    "# Assuming X_train_CT_df and y_train are defined\n",
    "param_grid = {\n",
    "    'n_estimators': [10, 50, 100],\n",
    "    'max_samples': [0.5, 0.7, 1.0],\n",
    "    'max_features': [0.5, 0.7, 1.0],\n",
    "    'base_estimator__max_depth': [None, 5, 10]\n",
    "}\n",
    "\n",
    "dt_reg_base = DecisionTreeRegressor(random_state=1)\n",
    "bagging_reg = BaggingRegressor(base_estimator=dt_reg_base, random_state=1)\n",
    "\n",
    "grid_search_bagging = GridSearchCV(bagging_reg, param_grid=param_grid, cv=4)\n",
    "grid_search_bagging.fit(X_train_CT_df, y_train)\n",
    "\n",
    "# Get the best estimator from the grid search\n",
    "best_bagging_reg = grid_search_bagging.best_estimator_\n",
    "\n",
    "# Make predictions on the training set\n",
    "y_pred_train_bagging = best_bagging_reg.predict(X_train_CT_df)\n",
    "\n",
    "# Calculate mean squared error on the training set\n",
    "mse_train_bagging = mean_squared_error(y_train, y_pred_train_bagging)\n",
    "print(\"Mean Squared Error on the training set (Bagging):\", mse_train_bagging)\n"
   ]
  },
  {
   "cell_type": "markdown",
   "id": "70cc1e7e",
   "metadata": {
    "papermill": {
     "duration": null,
     "end_time": null,
     "exception": null,
     "start_time": null,
     "status": "pending"
    },
    "tags": []
   },
   "source": [
    "Bosting"
   ]
  },
  {
   "cell_type": "code",
   "execution_count": null,
   "id": "b570ce56",
   "metadata": {
    "papermill": {
     "duration": null,
     "end_time": null,
     "exception": null,
     "start_time": null,
     "status": "pending"
    },
    "tags": []
   },
   "outputs": [],
   "source": [
    "from sklearn.ensemble import GradientBoostingRegressor\n",
    "from sklearn.model_selection import GridSearchCV\n",
    "from sklearn.metrics import mean_squared_error\n",
    "\n",
    "# Assuming X_train_CT_df and y_train are defined\n",
    "param_grid = {\n",
    "    'n_estimators': [50, 100, 200],\n",
    "    'learning_rate': [0.01, 0.1, 0.2],\n",
    "    'max_depth': [3, 5, 7]\n",
    "}\n",
    "\n",
    "grad_boost_reg = GradientBoostingRegressor(random_state=1)\n",
    "\n",
    "grid_search_boosting = GridSearchCV(grad_boost_reg, param_grid=param_grid, cv=4)\n",
    "grid_search_boosting.fit(X_train_CT_df, y_train)\n",
    "\n",
    "# Get the best estimator from the grid search\n",
    "best_grad_boost_reg = grid_search_boosting.best_estimator_\n",
    "\n",
    "# Make predictions on the training set\n",
    "y_pred_train_boosting = best_grad_boost_reg.predict(X_train_CT_df)\n",
    "\n",
    "# Calculate mean squared error on the training set\n",
    "mse_train_boosting = mean_squared_error(y_train, y_pred_train_boosting)\n",
    "print(\"Mean Squared Error on the training set (Boosting):\", mse_train_boosting)\n"
   ]
  },
  {
   "cell_type": "markdown",
   "id": "cdcd59cb",
   "metadata": {
    "papermill": {
     "duration": null,
     "end_time": null,
     "exception": null,
     "start_time": null,
     "status": "pending"
    },
    "tags": []
   },
   "source": [
    "MLP\n"
   ]
  },
  {
   "cell_type": "code",
   "execution_count": null,
   "id": "9bd13436",
   "metadata": {
    "papermill": {
     "duration": null,
     "end_time": null,
     "exception": null,
     "start_time": null,
     "status": "pending"
    },
    "tags": []
   },
   "outputs": [],
   "source": [
    "from sklearn.neural_network import MLPRegressor\n",
    "from sklearn.model_selection import GridSearchCV\n",
    "from sklearn.metrics import mean_squared_error\n",
    "\n",
    "# Assuming X_train_CT_df and y_train are defined\n",
    "param_grid = {\n",
    "    'hidden_layer_sizes': [(50,), (100,), (50, 50), (100, 50, 25)],\n",
    "    'activation': ['relu', 'tanh', 'logistic'],\n",
    "    'alpha': [0.0001, 0.001, 0.01],\n",
    "    'learning_rate': ['constant', 'invscaling', 'adaptive'],\n",
    "}\n",
    "\n",
    "mlp_reg = MLPRegressor(random_state=1, max_iter=500)\n",
    "\n",
    "grid_search_mlp = GridSearchCV(mlp_reg, param_grid=param_grid, cv=4)\n",
    "grid_search_mlp.fit(X_train_CT_df, y_train)\n",
    "\n",
    "# Get the best estimator from the grid search\n",
    "best_mlp_reg = grid_search_mlp.best_estimator_\n",
    "\n",
    "# Make predictions on the training set\n",
    "y_pred_train_mlp = best_mlp_reg.predict(X_train_CT_df)\n",
    "\n",
    "# Calculate mean squared error on the training set\n",
    "mse_train_mlp = mean_squared_error(y_train, y_pred_train_mlp)\n",
    "print(\"Mean Squared Error on the training set (MLP):\", mse_train_mlp)\n"
   ]
  },
  {
   "cell_type": "code",
   "execution_count": null,
   "id": "ea9ee14b",
   "metadata": {
    "papermill": {
     "duration": null,
     "end_time": null,
     "exception": null,
     "start_time": null,
     "status": "pending"
    },
    "tags": []
   },
   "outputs": [],
   "source": []
  }
 ],
 "metadata": {
  "kaggle": {
   "accelerator": "none",
   "dataSources": [
    {
     "databundleVersionId": 6604167,
     "sourceId": 61246,
     "sourceType": "competition"
    }
   ],
   "dockerImageVersionId": 30558,
   "isGpuEnabled": false,
   "isInternetEnabled": true,
   "language": "python",
   "sourceType": "notebook"
  },
  "kernelspec": {
   "display_name": "Python 3",
   "language": "python",
   "name": "python3"
  },
  "language_info": {
   "codemirror_mode": {
    "name": "ipython",
    "version": 3
   },
   "file_extension": ".py",
   "mimetype": "text/x-python",
   "name": "python",
   "nbconvert_exporter": "python",
   "pygments_lexer": "ipython3",
   "version": "3.10.12"
  },
  "papermill": {
   "default_parameters": {},
   "duration": 2985.676273,
   "end_time": "2023-11-30T11:53:17.790601",
   "environment_variables": {},
   "exception": true,
   "input_path": "__notebook__.ipynb",
   "output_path": "__notebook__.ipynb",
   "parameters": {},
   "start_time": "2023-11-30T11:03:32.114328",
   "version": "2.4.0"
  }
 },
 "nbformat": 4,
 "nbformat_minor": 5
}
